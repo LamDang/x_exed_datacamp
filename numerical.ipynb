{
 "cells": [
  {
   "cell_type": "code",
   "execution_count": 12,
   "metadata": {},
   "outputs": [
    {
     "data": {
      "text/html": [
       "<div>\n",
       "<style scoped>\n",
       "    .dataframe tbody tr th:only-of-type {\n",
       "        vertical-align: middle;\n",
       "    }\n",
       "\n",
       "    .dataframe tbody tr th {\n",
       "        vertical-align: top;\n",
       "    }\n",
       "\n",
       "    .dataframe thead th {\n",
       "        text-align: right;\n",
       "    }\n",
       "</style>\n",
       "<table border=\"1\" class=\"dataframe\">\n",
       "  <thead>\n",
       "    <tr style=\"text-align: right;\">\n",
       "      <th></th>\n",
       "      <th>Risk code</th>\n",
       "      <th>Claim Incident date</th>\n",
       "      <th>FE_Declaration_date</th>\n",
       "      <th>Initial coverage date</th>\n",
       "      <th>First claim decision date</th>\n",
       "      <th>Last claim decisión date</th>\n",
       "      <th>Insured amount</th>\n",
       "      <th>Initial_Instalment_Amount</th>\n",
       "      <th>Policy Holder date of birth</th>\n",
       "      <th>Age at signature</th>\n",
       "      <th>...</th>\n",
       "      <th>Trad_Refusal_reason</th>\n",
       "      <th>Refusal_Category</th>\n",
       "      <th>Claim_Status_Level_0</th>\n",
       "      <th>Refusal_Flag</th>\n",
       "      <th>Local Partner name categories</th>\n",
       "      <th>Insured NIF categories</th>\n",
       "      <th>Claim Number categories</th>\n",
       "      <th>Age policy at claim</th>\n",
       "      <th>Delay declaration</th>\n",
       "      <th>Age client at claim</th>\n",
       "    </tr>\n",
       "  </thead>\n",
       "  <tbody>\n",
       "    <tr>\n",
       "      <td>7</td>\n",
       "      <td>13</td>\n",
       "      <td>2010-04-09</td>\n",
       "      <td>2010-07-06</td>\n",
       "      <td>2010-02-19</td>\n",
       "      <td>2010-07-14</td>\n",
       "      <td>2011-01-14</td>\n",
       "      <td>790.02</td>\n",
       "      <td>131.67</td>\n",
       "      <td>1946-02-03</td>\n",
       "      <td>64</td>\n",
       "      <td>...</td>\n",
       "      <td>Waiting Period</td>\n",
       "      <td>Administrative</td>\n",
       "      <td>Claim refused</td>\n",
       "      <td>Yes</td>\n",
       "      <td>4</td>\n",
       "      <td>3</td>\n",
       "      <td>8935</td>\n",
       "      <td>49 days</td>\n",
       "      <td>88 days</td>\n",
       "      <td>23441 days</td>\n",
       "    </tr>\n",
       "    <tr>\n",
       "      <td>9</td>\n",
       "      <td>1</td>\n",
       "      <td>2010-01-22</td>\n",
       "      <td>2010-02-22</td>\n",
       "      <td>2010-01-11</td>\n",
       "      <td>2010-03-02</td>\n",
       "      <td>2011-03-24</td>\n",
       "      <td>6000.00</td>\n",
       "      <td>111.22</td>\n",
       "      <td>1946-08-18</td>\n",
       "      <td>63</td>\n",
       "      <td>...</td>\n",
       "      <td>Waiting Period</td>\n",
       "      <td>Administrative</td>\n",
       "      <td>Claim accepted after refusal</td>\n",
       "      <td>Yes</td>\n",
       "      <td>35</td>\n",
       "      <td>4</td>\n",
       "      <td>59206</td>\n",
       "      <td>11 days</td>\n",
       "      <td>31 days</td>\n",
       "      <td>23168 days</td>\n",
       "    </tr>\n",
       "    <tr>\n",
       "      <td>11</td>\n",
       "      <td>3</td>\n",
       "      <td>2009-11-16</td>\n",
       "      <td>2011-06-27</td>\n",
       "      <td>2009-07-21</td>\n",
       "      <td>2011-07-07</td>\n",
       "      <td>2012-01-11</td>\n",
       "      <td>3337.08</td>\n",
       "      <td>73.60</td>\n",
       "      <td>1946-09-28</td>\n",
       "      <td>62</td>\n",
       "      <td>...</td>\n",
       "      <td>Waiting Period</td>\n",
       "      <td>Administrative</td>\n",
       "      <td>Claim refused</td>\n",
       "      <td>Yes</td>\n",
       "      <td>35</td>\n",
       "      <td>6</td>\n",
       "      <td>65416</td>\n",
       "      <td>118 days</td>\n",
       "      <td>588 days</td>\n",
       "      <td>23060 days</td>\n",
       "    </tr>\n",
       "    <tr>\n",
       "      <td>12</td>\n",
       "      <td>13</td>\n",
       "      <td>2010-04-09</td>\n",
       "      <td>2010-05-18</td>\n",
       "      <td>2009-08-11</td>\n",
       "      <td>2010-05-20</td>\n",
       "      <td>2010-11-29</td>\n",
       "      <td>610.74</td>\n",
       "      <td>101.79</td>\n",
       "      <td>1947-02-21</td>\n",
       "      <td>62</td>\n",
       "      <td>...</td>\n",
       "      <td>Waiting Period</td>\n",
       "      <td>Administrative</td>\n",
       "      <td>Claim refused</td>\n",
       "      <td>Yes</td>\n",
       "      <td>3</td>\n",
       "      <td>7</td>\n",
       "      <td>8072</td>\n",
       "      <td>241 days</td>\n",
       "      <td>39 days</td>\n",
       "      <td>23058 days</td>\n",
       "    </tr>\n",
       "    <tr>\n",
       "      <td>14</td>\n",
       "      <td>13</td>\n",
       "      <td>2009-07-31</td>\n",
       "      <td>2010-07-27</td>\n",
       "      <td>2009-07-30</td>\n",
       "      <td>2010-08-03</td>\n",
       "      <td>2011-02-04</td>\n",
       "      <td>599.70</td>\n",
       "      <td>99.95</td>\n",
       "      <td>1947-09-11</td>\n",
       "      <td>61</td>\n",
       "      <td>...</td>\n",
       "      <td>Waiting Period</td>\n",
       "      <td>Administrative</td>\n",
       "      <td>Claim refused</td>\n",
       "      <td>Yes</td>\n",
       "      <td>15</td>\n",
       "      <td>9</td>\n",
       "      <td>6499</td>\n",
       "      <td>1 days</td>\n",
       "      <td>361 days</td>\n",
       "      <td>22604 days</td>\n",
       "    </tr>\n",
       "  </tbody>\n",
       "</table>\n",
       "<p>5 rows × 22 columns</p>\n",
       "</div>"
      ],
      "text/plain": [
       "    Risk code Claim Incident date FE_Declaration_date Initial coverage date  \\\n",
       "7          13          2010-04-09          2010-07-06            2010-02-19   \n",
       "9           1          2010-01-22          2010-02-22            2010-01-11   \n",
       "11          3          2009-11-16          2011-06-27            2009-07-21   \n",
       "12         13          2010-04-09          2010-05-18            2009-08-11   \n",
       "14         13          2009-07-31          2010-07-27            2009-07-30   \n",
       "\n",
       "   First claim decision date Last claim decisión date  Insured amount  \\\n",
       "7                 2010-07-14               2011-01-14          790.02   \n",
       "9                 2010-03-02               2011-03-24         6000.00   \n",
       "11                2011-07-07               2012-01-11         3337.08   \n",
       "12                2010-05-20               2010-11-29          610.74   \n",
       "14                2010-08-03               2011-02-04          599.70   \n",
       "\n",
       "    Initial_Instalment_Amount Policy Holder date of birth  Age at signature  \\\n",
       "7                      131.67                  1946-02-03                64   \n",
       "9                      111.22                  1946-08-18                63   \n",
       "11                      73.60                  1946-09-28                62   \n",
       "12                     101.79                  1947-02-21                62   \n",
       "14                      99.95                  1947-09-11                61   \n",
       "\n",
       "    ... Trad_Refusal_reason  Refusal_Category          Claim_Status_Level_0  \\\n",
       "7   ...      Waiting Period    Administrative                 Claim refused   \n",
       "9   ...      Waiting Period    Administrative  Claim accepted after refusal   \n",
       "11  ...      Waiting Period    Administrative                 Claim refused   \n",
       "12  ...      Waiting Period    Administrative                 Claim refused   \n",
       "14  ...      Waiting Period    Administrative                 Claim refused   \n",
       "\n",
       "   Refusal_Flag Local Partner name categories Insured NIF categories  \\\n",
       "7           Yes                             4                      3   \n",
       "9           Yes                            35                      4   \n",
       "11          Yes                            35                      6   \n",
       "12          Yes                             3                      7   \n",
       "14          Yes                            15                      9   \n",
       "\n",
       "    Claim Number categories  Age policy at claim  Delay declaration  \\\n",
       "7                      8935              49 days            88 days   \n",
       "9                     59206              11 days            31 days   \n",
       "11                    65416             118 days           588 days   \n",
       "12                     8072             241 days            39 days   \n",
       "14                     6499               1 days           361 days   \n",
       "\n",
       "   Age client at claim  \n",
       "7           23441 days  \n",
       "9           23168 days  \n",
       "11          23060 days  \n",
       "12          23058 days  \n",
       "14          22604 days  \n",
       "\n",
       "[5 rows x 22 columns]"
      ]
     },
     "execution_count": 12,
     "metadata": {},
     "output_type": "execute_result"
    }
   ],
   "source": [
    "import pandas as pd\n",
    "\n",
    "df = pd.read_csv('cleaner_dataframe.csv', index_col=0,\n",
    "                 parse_dates=['FE_Declaration_date',\n",
    "                              'Claim Incident date',\n",
    "                              'Initial coverage date',\n",
    "                              'First claim decision date',\n",
    "                              'Last claim decisión date',\n",
    "                              'Policy Holder date of birth'])\n",
    "df.loc[:, 'Age policy at claim'] = pd.to_timedelta(df.loc[:, 'Age policy at claim'])\n",
    "df.loc[:, 'Delay declaration'] = pd.to_timedelta(df.loc[:, 'Delay declaration'])\n",
    "df.loc[:, 'Age client at claim'] = pd.to_timedelta(df.loc[:, 'Age client at claim'])\n",
    "df.head()"
   ]
  },
  {
   "cell_type": "code",
   "execution_count": 25,
   "metadata": {},
   "outputs": [],
   "source": [
    "seniority = (df['Claim Incident date'] -\n",
    "             df['Initial coverage date']).rename('seniority')\n",
    "time_to_declaration = (df['FE_Declaration_date'] -\n",
    "                       df['Claim Incident date']).rename('declaration time')"
   ]
  },
  {
   "cell_type": "code",
   "execution_count": 27,
   "metadata": {},
   "outputs": [],
   "source": [
    "df = pd.concat([df, seniority, time_to_declaration], axis=1)"
   ]
  },
  {
   "cell_type": "code",
   "execution_count": 32,
   "metadata": {},
   "outputs": [],
   "source": [
    "timedelta_cols = ['Age policy at claim', 'Delay declaration', 'Age client at claim',\n",
    "                  'seniority', 'declaration time']\n",
    "for col in timedelta_cols:\n",
    "    df.loc[:, col] = df.loc[:, col].dt.days"
   ]
  },
  {
   "cell_type": "code",
   "execution_count": 34,
   "metadata": {},
   "outputs": [
    {
     "data": {
      "text/plain": [
       "Index(['Risk code', 'Claim Incident date', 'FE_Declaration_date',\n",
       "       'Initial coverage date', 'First claim decision date',\n",
       "       'Last claim decisión date', 'Insured amount',\n",
       "       'Initial_Instalment_Amount', 'Policy Holder date of birth',\n",
       "       'Age at signature', 'Sexo', 'Refused decision reason code',\n",
       "       'Trad_Refusal_reason', 'Refusal_Category', 'Claim_Status_Level_0',\n",
       "       'Refusal_Flag', 'Local Partner name categories',\n",
       "       'Insured NIF categories', 'Claim Number categories',\n",
       "       'Age policy at claim', 'Delay declaration', 'Age client at claim',\n",
       "       'seniority', 'declaration time'],\n",
       "      dtype='object')"
      ]
     },
     "execution_count": 34,
     "metadata": {},
     "output_type": "execute_result"
    }
   ],
   "source": [
    "df.columns"
   ]
  },
  {
   "cell_type": "markdown",
   "metadata": {},
   "source": [
    "# Make a model for numerical data"
   ]
  },
  {
   "cell_type": "code",
   "execution_count": 35,
   "metadata": {},
   "outputs": [],
   "source": [
    "num_cols = ['Insured amount', 'Initial_Instalment_Amount',\n",
    "            'Age at signature', 'Age policy at claim',\n",
    "            'Delay declaration', 'Age client at claim',\n",
    "            'seniority', 'declaration time']"
   ]
  },
  {
   "cell_type": "code",
   "execution_count": 38,
   "metadata": {},
   "outputs": [],
   "source": [
    "from sklearn.model_selection import train_test_split\n",
    "X = df.drop(columns='Refusal_Flag')\n",
    "y = df['Refusal_Flag']\n",
    "\n",
    "X_train, X_test, y_train, y_test = train_test_split(\n",
    "    X, y, random_state=42\n",
    ")"
   ]
  },
  {
   "cell_type": "code",
   "execution_count": 47,
   "metadata": {},
   "outputs": [],
   "source": [
    "from sklearn.preprocessing import StandardScaler\n",
    "from sklearn.pipeline import make_pipeline\n",
    "from sklearn.linear_model import LogisticRegression\n",
    "from sklearn.ensemble import RandomForestClassifier\n",
    "from sklearn.metrics import balanced_accuracy_score\n",
    "\n",
    "pipe = make_pipeline(\n",
    "    StandardScaler(), RandomForestClassifier(n_estimators=100)\n",
    ")"
   ]
  },
  {
   "cell_type": "code",
   "execution_count": 48,
   "metadata": {},
   "outputs": [],
   "source": [
    "pipe.fit(X_train[num_cols], y_train)\n",
    "y_pred = pipe.predict(X_test[num_cols])"
   ]
  },
  {
   "cell_type": "code",
   "execution_count": 49,
   "metadata": {},
   "outputs": [
    {
     "data": {
      "text/plain": [
       "0.609351862302786"
      ]
     },
     "execution_count": 49,
     "metadata": {},
     "output_type": "execute_result"
    }
   ],
   "source": [
    "balanced_accuracy_score(y_test, y_pred)"
   ]
  },
  {
   "cell_type": "code",
   "execution_count": 50,
   "metadata": {},
   "outputs": [],
   "source": [
    "from sklearn.model_selection import cross_val_score"
   ]
  },
  {
   "cell_type": "code",
   "execution_count": 52,
   "metadata": {},
   "outputs": [
    {
     "data": {
      "text/plain": [
       "array([0.36224379, 0.43797341, 0.42971412])"
      ]
     },
     "execution_count": 52,
     "metadata": {},
     "output_type": "execute_result"
    }
   ],
   "source": [
    "cross_val_score(pipe, X[num_cols], y, cv=3, n_jobs=-1,\n",
    "                scoring='balanced_accuracy')"
   ]
  },
  {
   "cell_type": "code",
   "execution_count": null,
   "metadata": {},
   "outputs": [],
   "source": []
  }
 ],
 "metadata": {
  "kernelspec": {
   "display_name": "Python 3",
   "language": "python",
   "name": "python3"
  },
  "language_info": {
   "codemirror_mode": {
    "name": "ipython",
    "version": 3
   },
   "file_extension": ".py",
   "mimetype": "text/x-python",
   "name": "python",
   "nbconvert_exporter": "python",
   "pygments_lexer": "ipython3",
   "version": "3.7.4"
  }
 },
 "nbformat": 4,
 "nbformat_minor": 4
}
