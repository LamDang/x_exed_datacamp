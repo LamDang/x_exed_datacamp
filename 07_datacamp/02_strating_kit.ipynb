{
 "cells": [
  {
   "cell_type": "code",
   "execution_count": 1,
   "metadata": {
    "ExecuteTime": {
     "end_time": "2019-03-22T15:17:42.006063Z",
     "start_time": "2019-03-22T15:17:41.621392Z"
    }
   },
   "outputs": [],
   "source": [
    "import pandas as pd\n",
    "import numpy as np"
   ]
  },
  {
   "cell_type": "code",
   "execution_count": 2,
   "metadata": {
    "ExecuteTime": {
     "end_time": "2019-03-22T15:17:42.763441Z",
     "start_time": "2019-03-22T15:17:42.008657Z"
    }
   },
   "outputs": [
    {
     "name": "stderr",
     "output_type": "stream",
     "text": [
      "/home/lemaitre/miniconda3/lib/python3.7/site-packages/IPython/core/interactiveshell.py:3044: DtypeWarning: Columns (13,14) have mixed types. Specify dtype option on import or set low_memory=False.\n",
      "  interactivity=interactivity, compiler=compiler, result=result)\n"
     ]
    }
   ],
   "source": [
    "df = pd.read_csv('DataFrame_Claims_Spain.csv', encoding='latin_1', index_col=0,\n",
    "                 parse_dates=['Claim Incident date', 'FE_Declaration_date', 'Initial coverage date',\n",
    "                              'First claim decision date', 'Last claim decisión date', 'Policy Holder date of birth'],\n",
    "                              infer_datetime_format=True, dtype={'Age at signature': np.int64})"
   ]
  },
  {
   "cell_type": "code",
   "execution_count": 3,
   "metadata": {
    "ExecuteTime": {
     "end_time": "2019-03-22T15:17:42.809082Z",
     "start_time": "2019-03-22T15:17:42.765768Z"
    }
   },
   "outputs": [
    {
     "data": {
      "text/html": [
       "<div>\n",
       "<style scoped>\n",
       "    .dataframe tbody tr th:only-of-type {\n",
       "        vertical-align: middle;\n",
       "    }\n",
       "\n",
       "    .dataframe tbody tr th {\n",
       "        vertical-align: top;\n",
       "    }\n",
       "\n",
       "    .dataframe thead th {\n",
       "        text-align: right;\n",
       "    }\n",
       "</style>\n",
       "<table border=\"1\" class=\"dataframe\">\n",
       "  <thead>\n",
       "    <tr style=\"text-align: right;\">\n",
       "      <th></th>\n",
       "      <th>Risk code</th>\n",
       "      <th>Claim Incident date</th>\n",
       "      <th>FE_Declaration_date</th>\n",
       "      <th>Initial coverage date</th>\n",
       "      <th>First claim decision date</th>\n",
       "      <th>Last claim decisión date</th>\n",
       "      <th>Insured amount</th>\n",
       "      <th>Initial_Instalment_Amount</th>\n",
       "      <th>Policy Holder date of birth</th>\n",
       "      <th>Age at signature</th>\n",
       "      <th>Sexo</th>\n",
       "      <th>Refused decision reason code</th>\n",
       "      <th>Trad_Refusal_reason</th>\n",
       "      <th>Refusal_Category</th>\n",
       "      <th>Claim_Status_Level_0</th>\n",
       "      <th>Refusal_Flag</th>\n",
       "      <th>Local Partner name categories</th>\n",
       "      <th>Insured NIF categories</th>\n",
       "      <th>Claim Number categories</th>\n",
       "    </tr>\n",
       "  </thead>\n",
       "  <tbody>\n",
       "    <tr>\n",
       "      <th>2</th>\n",
       "      <td>5</td>\n",
       "      <td>2009-04-22</td>\n",
       "      <td>2010-01-15</td>\n",
       "      <td>2006-10-04</td>\n",
       "      <td>2010-01-21</td>\n",
       "      <td>2010-09-28</td>\n",
       "      <td>2896.44</td>\n",
       "      <td>241.37</td>\n",
       "      <td>1945-07-22 00:00:00</td>\n",
       "      <td>61</td>\n",
       "      <td>Femme</td>\n",
       "      <td>139.0</td>\n",
       "      <td>Waiting Period</td>\n",
       "      <td>Administrative</td>\n",
       "      <td>Claim refused</td>\n",
       "      <td>Yes</td>\n",
       "      <td>4</td>\n",
       "      <td>0</td>\n",
       "      <td>56529</td>\n",
       "    </tr>\n",
       "    <tr>\n",
       "      <th>3</th>\n",
       "      <td>5</td>\n",
       "      <td>2009-04-22</td>\n",
       "      <td>2010-01-15</td>\n",
       "      <td>2004-08-05</td>\n",
       "      <td>2010-01-21</td>\n",
       "      <td>2010-09-28</td>\n",
       "      <td>1080.00</td>\n",
       "      <td>90.00</td>\n",
       "      <td>1945-07-22 00:00:00</td>\n",
       "      <td>59</td>\n",
       "      <td>Femme</td>\n",
       "      <td>139.0</td>\n",
       "      <td>Waiting Period</td>\n",
       "      <td>Administrative</td>\n",
       "      <td>Claim refused</td>\n",
       "      <td>Yes</td>\n",
       "      <td>4</td>\n",
       "      <td>0</td>\n",
       "      <td>56528</td>\n",
       "    </tr>\n",
       "    <tr>\n",
       "      <th>5</th>\n",
       "      <td>5</td>\n",
       "      <td>2009-04-13</td>\n",
       "      <td>2013-10-09</td>\n",
       "      <td>2007-10-23</td>\n",
       "      <td>2013-10-09</td>\n",
       "      <td>2014-06-20</td>\n",
       "      <td>5899.44</td>\n",
       "      <td>983.24</td>\n",
       "      <td>1945-11-13 00:00:00</td>\n",
       "      <td>61</td>\n",
       "      <td>Homme</td>\n",
       "      <td>139.0</td>\n",
       "      <td>Waiting Period</td>\n",
       "      <td>Administrative</td>\n",
       "      <td>Claim refused</td>\n",
       "      <td>Yes</td>\n",
       "      <td>65</td>\n",
       "      <td>1</td>\n",
       "      <td>79211</td>\n",
       "    </tr>\n",
       "    <tr>\n",
       "      <th>6</th>\n",
       "      <td>5</td>\n",
       "      <td>2009-12-22</td>\n",
       "      <td>2010-04-05</td>\n",
       "      <td>2008-11-25</td>\n",
       "      <td>2010-04-12</td>\n",
       "      <td>2010-10-15</td>\n",
       "      <td>410.58</td>\n",
       "      <td>68.43</td>\n",
       "      <td>1945-12-04 00:00:00</td>\n",
       "      <td>62</td>\n",
       "      <td>Homme</td>\n",
       "      <td>139.0</td>\n",
       "      <td>Waiting Period</td>\n",
       "      <td>Administrative</td>\n",
       "      <td>Claim refused</td>\n",
       "      <td>Yes</td>\n",
       "      <td>15</td>\n",
       "      <td>2</td>\n",
       "      <td>5822</td>\n",
       "    </tr>\n",
       "    <tr>\n",
       "      <th>7</th>\n",
       "      <td>13</td>\n",
       "      <td>2010-04-09</td>\n",
       "      <td>2010-07-06</td>\n",
       "      <td>2010-02-19</td>\n",
       "      <td>2010-07-14</td>\n",
       "      <td>2011-01-14</td>\n",
       "      <td>790.02</td>\n",
       "      <td>131.67</td>\n",
       "      <td>1946-02-03 00:00:00</td>\n",
       "      <td>64</td>\n",
       "      <td>Homme</td>\n",
       "      <td>139.0</td>\n",
       "      <td>Waiting Period</td>\n",
       "      <td>Administrative</td>\n",
       "      <td>Claim refused</td>\n",
       "      <td>Yes</td>\n",
       "      <td>4</td>\n",
       "      <td>3</td>\n",
       "      <td>8935</td>\n",
       "    </tr>\n",
       "  </tbody>\n",
       "</table>\n",
       "</div>"
      ],
      "text/plain": [
       "   Risk code Claim Incident date FE_Declaration_date Initial coverage date  \\\n",
       "2          5          2009-04-22          2010-01-15            2006-10-04   \n",
       "3          5          2009-04-22          2010-01-15            2004-08-05   \n",
       "5          5          2009-04-13          2013-10-09            2007-10-23   \n",
       "6          5          2009-12-22          2010-04-05            2008-11-25   \n",
       "7         13          2010-04-09          2010-07-06            2010-02-19   \n",
       "\n",
       "  First claim decision date Last claim decisión date  Insured amount  \\\n",
       "2                2010-01-21               2010-09-28         2896.44   \n",
       "3                2010-01-21               2010-09-28         1080.00   \n",
       "5                2013-10-09               2014-06-20         5899.44   \n",
       "6                2010-04-12               2010-10-15          410.58   \n",
       "7                2010-07-14               2011-01-14          790.02   \n",
       "\n",
       "   Initial_Instalment_Amount Policy Holder date of birth  Age at signature  \\\n",
       "2                     241.37         1945-07-22 00:00:00                61   \n",
       "3                      90.00         1945-07-22 00:00:00                59   \n",
       "5                     983.24         1945-11-13 00:00:00                61   \n",
       "6                      68.43         1945-12-04 00:00:00                62   \n",
       "7                     131.67         1946-02-03 00:00:00                64   \n",
       "\n",
       "    Sexo  Refused decision reason code Trad_Refusal_reason Refusal_Category  \\\n",
       "2  Femme                         139.0      Waiting Period   Administrative   \n",
       "3  Femme                         139.0      Waiting Period   Administrative   \n",
       "5  Homme                         139.0      Waiting Period   Administrative   \n",
       "6  Homme                         139.0      Waiting Period   Administrative   \n",
       "7  Homme                         139.0      Waiting Period   Administrative   \n",
       "\n",
       "  Claim_Status_Level_0 Refusal_Flag  Local Partner name categories  \\\n",
       "2        Claim refused          Yes                              4   \n",
       "3        Claim refused          Yes                              4   \n",
       "5        Claim refused          Yes                             65   \n",
       "6        Claim refused          Yes                             15   \n",
       "7        Claim refused          Yes                              4   \n",
       "\n",
       "   Insured NIF categories  Claim Number categories  \n",
       "2                       0                    56529  \n",
       "3                       0                    56528  \n",
       "5                       1                    79211  \n",
       "6                       2                     5822  \n",
       "7                       3                     8935  "
      ]
     },
     "execution_count": 3,
     "metadata": {},
     "output_type": "execute_result"
    }
   ],
   "source": [
    "df.head()"
   ]
  },
  {
   "cell_type": "markdown",
   "metadata": {},
   "source": [
    "The column `'Policy Holder date of birth'` contain a corrupted date"
   ]
  },
  {
   "cell_type": "code",
   "execution_count": 4,
   "metadata": {
    "ExecuteTime": {
     "end_time": "2019-03-22T15:17:42.870637Z",
     "start_time": "2019-03-22T15:17:42.812059Z"
    }
   },
   "outputs": [
    {
     "data": {
      "text/plain": [
       "33949    19/05/1070\n",
       "Name: Policy Holder date of birth, dtype: object"
      ]
     },
     "execution_count": 4,
     "metadata": {},
     "output_type": "execute_result"
    }
   ],
   "source": [
    "df['Policy Holder date of birth'][df['Policy Holder date of birth'].str.contains('1070')]"
   ]
  },
  {
   "cell_type": "code",
   "execution_count": 5,
   "metadata": {
    "ExecuteTime": {
     "end_time": "2019-03-22T15:17:49.435341Z",
     "start_time": "2019-03-22T15:17:49.418716Z"
    }
   },
   "outputs": [],
   "source": [
    "df.loc[33949, 'Policy Holder date of birth'] = '19/05/1970'\n",
    "df.loc[33949, 'Age at signature'] = 29"
   ]
  },
  {
   "cell_type": "markdown",
   "metadata": {},
   "source": [
    "Convert the column containing some date to the `datetime` dtype"
   ]
  },
  {
   "cell_type": "code",
   "execution_count": 6,
   "metadata": {
    "ExecuteTime": {
     "end_time": "2019-03-22T15:17:50.150398Z",
     "start_time": "2019-03-22T15:17:50.108294Z"
    }
   },
   "outputs": [],
   "source": [
    "df['Policy Holder date of birth'] = pd.to_datetime(df['Policy Holder date of birth'])"
   ]
  },
  {
   "cell_type": "markdown",
   "metadata": {},
   "source": [
    "Convert to category the categorical columns"
   ]
  },
  {
   "cell_type": "code",
   "execution_count": 7,
   "metadata": {
    "ExecuteTime": {
     "end_time": "2019-03-22T15:17:50.733566Z",
     "start_time": "2019-03-22T15:17:50.730212Z"
    }
   },
   "outputs": [],
   "source": [
    "def convert_to_int_object(col):\n",
    "    serie = []\n",
    "    for _, x in col.iteritems():\n",
    "        try:\n",
    "            serie.append(int(x))\n",
    "        except ValueError:\n",
    "            serie.append(np.nan)\n",
    "    return pd.Series(serie, index=col.index, dtype=object)"
   ]
  },
  {
   "cell_type": "code",
   "execution_count": 8,
   "metadata": {
    "ExecuteTime": {
     "end_time": "2019-03-22T15:17:52.731416Z",
     "start_time": "2019-03-22T15:17:52.562704Z"
    }
   },
   "outputs": [],
   "source": [
    "df['Risk code'] = df['Risk code'].astype('category')\n",
    "df['Sexo'] = df['Sexo'].astype('category')\n",
    "df['Refused decision reason code'] = convert_to_int_object(df['Refused decision reason code']).astype('category')\n",
    "df['Trad_Refusal_reason'] = df['Trad_Refusal_reason'].astype('category')\n",
    "df['Refusal_Category'] = df['Refusal_Category'].astype('category')\n",
    "df['Claim_Status_Level_0']= df['Claim_Status_Level_0'].astype('category')\n",
    "df['Refusal_Flag'] = df['Refusal_Flag'].astype('category')\n",
    "df['Local Partner name categories'] = df['Local Partner name categories'].astype('category')\n",
    "df['Insured NIF categories'] = df['Insured NIF categories'].astype('category')"
   ]
  },
  {
   "cell_type": "markdown",
   "metadata": {},
   "source": [
    "Drop the column to not consider during classification"
   ]
  },
  {
   "cell_type": "code",
   "execution_count": 9,
   "metadata": {
    "ExecuteTime": {
     "end_time": "2019-03-22T15:17:53.071823Z",
     "start_time": "2019-03-22T15:17:52.997490Z"
    }
   },
   "outputs": [],
   "source": [
    "target = df['Refusal_Flag']\n",
    "data = df.drop(columns=[\n",
    "    'Refusal_Flag',\n",
    "    'Refused decision reason code',\n",
    "    'Claim_Status_Level_0',\n",
    "    'Trad_Refusal_reason',\n",
    "    'Refusal_Category',\n",
    "    'First claim decision date',\n",
    "    'Last claim decisión date',\n",
    "    'Insured NIF categories',\n",
    "    'Claim Number categories'\n",
    "])"
   ]
  },
  {
   "cell_type": "markdown",
   "metadata": {},
   "source": [
    "Exercise : Remove claims with administrative refusal using `'Refusal_Category'` column"
   ]
  },
  {
   "cell_type": "code",
   "execution_count": null,
   "metadata": {},
   "outputs": [],
   "source": []
  },
  {
   "cell_type": "markdown",
   "metadata": {},
   "source": [
    "Encode the label"
   ]
  },
  {
   "cell_type": "code",
   "execution_count": 10,
   "metadata": {},
   "outputs": [],
   "source": [
    "from sklearn.preprocessing import LabelEncoder\n",
    "label_encoder = LabelEncoder()\n",
    "label = label_encoder.fit_transform(target)"
   ]
  },
  {
   "cell_type": "markdown",
   "metadata": {},
   "source": [
    "Define the different part of the pipeline:\n",
    "\n",
    "* One-hot encode the categorical features;\n",
    "* Ordinal encode the binary categorical features;\n",
    "* Standard scale the numerical features;\n",
    "* Feature engineer the date by creating: (i) the time to declaration and (ii) the contract seniority."
   ]
  },
  {
   "cell_type": "code",
   "execution_count": 11,
   "metadata": {},
   "outputs": [],
   "source": [
    "one_hot_encoded_cat_features = ['Risk code',\n",
    "                                'Local Partner name categories']\n",
    "ordinal_encoded_features = ['Sexo']\n",
    "standard_scaled_features = ['Insured amount', 'Initial_Instalment_Amount',\n",
    "                            'Age at signature']\n",
    "time_to_declaration_features = ['FE_Declaration_date', 'Claim Incident date']\n",
    "contract_seniority_features = ['Claim Incident date', 'Initial coverage date']"
   ]
  },
  {
   "cell_type": "code",
   "execution_count": 12,
   "metadata": {},
   "outputs": [],
   "source": [
    "from sklearn.preprocessing import OneHotEncoder\n",
    "from sklearn.preprocessing import OrdinalEncoder\n",
    "from sklearn.preprocessing import StandardScaler\n",
    "from sklearn.preprocessing import MinMaxScaler\n",
    "from sklearn.preprocessing import FunctionTransformer\n",
    "\n",
    "from sklearn.impute import SimpleImputer\n",
    "\n",
    "from sklearn.pipeline import make_pipeline\n",
    "from sklearn.compose import make_column_transformer\n",
    "\n",
    "from function_FunctionTransformer import time_to_declaration\n",
    "from function_FunctionTransformer import contract_seniority"
   ]
  },
  {
   "cell_type": "code",
   "execution_count": 13,
   "metadata": {},
   "outputs": [
    {
     "name": "stderr",
     "output_type": "stream",
     "text": [
      "/home/lemaitre/miniconda3/lib/python3.7/site-packages/sklearn/compose/_column_transformer.py:739: DeprecationWarning: `make_column_transformer` now expects (transformer, columns) as input tuples instead of (columns, transformer). This has been introduced in v0.20.1. `make_column_transformer` will stop accepting the deprecated (columns, transformer) order in v0.22.\n",
      "  warnings.warn(message, DeprecationWarning)\n"
     ]
    }
   ],
   "source": [
    "preprocessor = make_column_transformer(\n",
    "    (ordinal_encoded_features, OrdinalEncoder()),\n",
    "    (one_hot_encoded_cat_features, make_pipeline(\n",
    "        SimpleImputer(strategy='constant', fill_value=-1),\n",
    "        OneHotEncoder(handle_unknown='ignore'))),\n",
    "    (time_to_declaration_features, make_pipeline(\n",
    "        FunctionTransformer(func=time_to_declaration, validate=False),\n",
    "        MinMaxScaler())),\n",
    "    (contract_seniority_features, make_pipeline(\n",
    "        FunctionTransformer(func=contract_seniority, validate=False),\n",
    "        MinMaxScaler())),\n",
    "    (standard_scaled_features, make_pipeline(\n",
    "        StandardScaler(),\n",
    "        SimpleImputer(strategy='median'))),\n",
    "    n_jobs=-1\n",
    ")"
   ]
  },
  {
   "cell_type": "markdown",
   "metadata": {},
   "source": [
    "Use a RandomForestClassifier to make some classification within a 3-fold cross-validation. We will return the `balanced_accuracy_score` and the `roc_auc_score`."
   ]
  },
  {
   "cell_type": "code",
   "execution_count": 14,
   "metadata": {},
   "outputs": [],
   "source": [
    "from sklearn.ensemble import RandomForestClassifier\n",
    "from sklearn.model_selection import cross_validate"
   ]
  },
  {
   "cell_type": "code",
   "execution_count": 15,
   "metadata": {},
   "outputs": [],
   "source": [
    "pipe = make_pipeline(preprocessor, RandomForestClassifier(n_estimators=100, n_jobs=-1))"
   ]
  },
  {
   "cell_type": "code",
   "execution_count": null,
   "metadata": {},
   "outputs": [],
   "source": [
    "scores = cross_validate(pipe, data, label, scoring=['roc_auc', 'balanced_accuracy'], cv=3, n_jobs=-1)"
   ]
  },
  {
   "cell_type": "markdown",
   "metadata": {},
   "source": [
    "Convert the scores to a dataframe to have a nice display"
   ]
  },
  {
   "cell_type": "code",
   "execution_count": null,
   "metadata": {},
   "outputs": [],
   "source": [
    "scores = pd.DataFrame(scores)\n",
    "scores"
   ]
  },
  {
   "cell_type": "markdown",
   "metadata": {},
   "source": [
    "Compute the mean performance"
   ]
  },
  {
   "cell_type": "code",
   "execution_count": null,
   "metadata": {},
   "outputs": [],
   "source": [
    "scores.mean().to_frame().T"
   ]
  },
  {
   "cell_type": "markdown",
   "metadata": {},
   "source": [
    "As well as the std. dev. of those performance"
   ]
  },
  {
   "cell_type": "code",
   "execution_count": null,
   "metadata": {},
   "outputs": [],
   "source": [
    "scores.std().to_frame().T"
   ]
  },
  {
   "cell_type": "markdown",
   "metadata": {},
   "source": [
    "Exercise : Create a new feature containing number of claims already declared by customer (use `'Insured NIF categories'` column) and rerun classification"
   ]
  },
  {
   "cell_type": "code",
   "execution_count": null,
   "metadata": {},
   "outputs": [],
   "source": []
  },
  {
   "cell_type": "markdown",
   "metadata": {
    "ExecuteTime": {
     "end_time": "2019-03-22T15:23:35.601163Z",
     "start_time": "2019-03-22T15:23:35.597923Z"
    }
   },
   "source": [
    "Exercise : Create a new feature containing the month when claim occurs (use `Claim Incident date` column) and rerun classification"
   ]
  },
  {
   "cell_type": "code",
   "execution_count": null,
   "metadata": {},
   "outputs": [],
   "source": []
  }
 ],
 "metadata": {
  "kernelspec": {
   "display_name": "Python 3",
   "language": "python",
   "name": "python3"
  },
  "language_info": {
   "codemirror_mode": {
    "name": "ipython",
    "version": 3
   },
   "file_extension": ".py",
   "mimetype": "text/x-python",
   "name": "python",
   "nbconvert_exporter": "python",
   "pygments_lexer": "ipython3",
   "version": "3.7.2"
  },
  "toc": {
   "base_numbering": 1,
   "nav_menu": {},
   "number_sections": true,
   "sideBar": true,
   "skip_h1_title": false,
   "title_cell": "Table of Contents",
   "title_sidebar": "Contents",
   "toc_cell": false,
   "toc_position": {},
   "toc_section_display": true,
   "toc_window_display": false
  }
 },
 "nbformat": 4,
 "nbformat_minor": 2
}
