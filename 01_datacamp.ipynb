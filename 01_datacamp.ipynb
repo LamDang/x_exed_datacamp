{
 "cells": [
  {
   "cell_type": "markdown",
   "metadata": {},
   "source": [
    "# Datacamp: Claims scoring for automatic acceptation for BNP Paribas Cardif"
   ]
  },
  {
   "cell_type": "markdown",
   "metadata": {},
   "source": [
    "## 1. Introduction\n",
    "\n",
    "The dataset is stored in `DataFrame_Claims_Spain.csv` file.\n",
    "\n",
    "This datacamp is dedicated to the development of a machine learning pipeline to automatize the claim process. In short, automatic acceptation will speed-up the procedure, improve customer experience, and reduce management costs. However, it will be counterbalanced by an increase in the number of payments due to false positive acceptations leading to some new costs. Therefore, the pipeline should outcome probabilities to find the appropriate trade-off between accepting claims and creating new costs.\n",
    "\n",
    "## 2. Available features\n",
    "\n",
    "The handed data set contains the following features which can be used for designing the machine learning pipeline.\n",
    "\n",
    "Features linked to the customer:\n",
    "\n",
    "* Insured NIF: Customer ID \n",
    "* Age at signature: Customers age at insurance contract signature\n",
    "* Sex\n",
    "* Policy Holder date of birth: customer date of birth\n",
    "\n",
    "Features linked to insurance product:\n",
    "\n",
    "* Risk code: coverage to be activated for specific claim\n",
    "* Initial coverage date: insurance coverage starting date \n",
    "\n",
    "Features linked to claims:\n",
    "\n",
    "* Claim number: id of the claim\n",
    "* Claim Incident date: occurrence date of the incident\n",
    "* Declaration date: date when a customer declare its claim\n",
    "\n",
    "Features linked to the amount to be paid in case of claims:\n",
    "* Insured Amount variable for classical credit modality\n",
    "* Initial_Instalment_Amount: monthly amount paid by customer to reimburse its credit\n",
    "    \n",
    "Target to be predicted:\n",
    "\n",
    "* Refusal_Flag: Yes / No\n",
    "\n",
    "Additional information once a decision was made and you should not include in your pipeline:\n",
    "\n",
    "* Claims cause 1\n",
    "* Refused decision reason code\n",
    "* Claim_Status_Level_0\n",
    "* Refusal_Category\n",
    "\n",
    "## 3. Datacamp organization\n",
    "\n",
    "### Potential schedule\n",
    "\n",
    "* 9.30 am - 11.15 am: data exploration: inspection of data type, feature correlation, etc.\n",
    "* 11.15 am - 12.00 am: experience sharing\n",
    "* 1.00 pm - 1.30 pm: extra-resources\n",
    "* 1.30 pm - 4.15 pm: machine learning pipeline development: development of pipeline, hyper-parameters optimization, feature selection, interpretation\n",
    "* 4.15 pm - 5.00 pm: experience sharing\n",
    "\n",
    "### Resources\n",
    "\n",
    "* You might want to have a look at this [presentation](https://glemaitre.github.io/talks/2018_euroscipy/#1)\n",
    "* For the afternoon, we present a starting-kit based which uses `scikit-learn`. You could use it as an inspiration."
   ]
  },
  {
   "cell_type": "code",
   "execution_count": null,
   "metadata": {},
   "outputs": [],
   "source": []
  }
 ],
 "metadata": {
  "kernelspec": {
   "display_name": "Python 3",
   "language": "python",
   "name": "python3"
  },
  "language_info": {
   "codemirror_mode": {
    "name": "ipython",
    "version": 3
   },
   "file_extension": ".py",
   "mimetype": "text/x-python",
   "name": "python",
   "nbconvert_exporter": "python",
   "pygments_lexer": "ipython3",
   "version": "3.7.0"
  }
 },
 "nbformat": 4,
 "nbformat_minor": 2
}
