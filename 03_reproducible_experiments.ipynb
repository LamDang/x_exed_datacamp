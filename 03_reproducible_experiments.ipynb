{
  "cells": [
    {
      "cell_type": "markdown",
      "source": [
        "# Datacamp Claim Scoring solution\n",
        "\n",
        "This notebook provided a commented solution for the datacamp exercice."
      ],
      "metadata": {
        "id": "EP7y7bHsH479"
      },
      "id": "EP7y7bHsH479"
    },
    {
      "cell_type": "markdown",
      "source": [
        "# Summary\n",
        "\n",
        "Here are the major steps covered in this notebook, from raw data to model evaluation & interpretation:\n",
        "1. __Data loading__ : Read the data from csv file into DataFrame\n",
        "2. __Data preprocessing__ : Tranform the raw data so that it can be used by ML algorithm\n",
        "3. __Creating basic predictive models__ : Build some standard ML model to predict the target\n",
        "4. __Evaluating models__ with cross-validation : Quantitative evaluation of the models' performance and compare them\n",
        "5. __Analyzing model__ with permutation importance : Analyze which variables are the most important for the model"
      ],
      "metadata": {
        "id": "4xRDki-aIUGK"
      },
      "id": "4xRDki-aIUGK"
    },
    {
      "cell_type": "markdown",
      "id": "a5be99d3",
      "metadata": {
        "id": "a5be99d3"
      },
      "source": [
        "# Data loading"
      ]
    },
    {
      "cell_type": "markdown",
      "source": [
        "Let's load the data from CSV file with `pd.read_csv` function.  \n",
        "* Some of the columns are dates in text form, we use `parse_dates` parameters to tell pandas to convert them to datetime.  \n",
        "* `index=0` tells pandas to use the first column as the index of the DataFrame."
      ],
      "metadata": {
        "id": "7UBchda3LU0H"
      },
      "id": "7UBchda3LU0H"
    },
    {
      "cell_type": "code",
      "execution_count": 1,
      "id": "659dd975",
      "metadata": {
        "id": "659dd975"
      },
      "outputs": [],
      "source": [
        "import pandas as pd\n",
        "\n",
        "df = pd.read_csv(\n",
        "    \"cleaner_dataframe.csv\",\n",
        "    parse_dates=[\n",
        "        \"Claim Incident date\",\n",
        "        \"FE_Declaration_date\",\n",
        "        \"Initial coverage date\",\n",
        "        \"First claim decision date\",\n",
        "        \"Last claim decisión date\",\n",
        "        \"Policy Holder date of birth\",\n",
        "        \"Age policy at claim\",\n",
        "    ],\n",
        "    index_col=0,\n",
        ")"
      ]
    },
    {
      "cell_type": "markdown",
      "source": [
        "It is always useful to have a few checks after loading the data to see how it looks like"
      ],
      "metadata": {
        "id": "QDKvB53DM1BT"
      },
      "id": "QDKvB53DM1BT"
    },
    {
      "cell_type": "code",
      "source": [
        "df.info()"
      ],
      "metadata": {
        "colab": {
          "base_uri": "https://localhost:8080/",
          "height": 0
        },
        "id": "4krgibuiM_vm",
        "outputId": "9a5fc463-3bf8-488e-9912-f72ad949f1e5"
      },
      "id": "4krgibuiM_vm",
      "execution_count": 2,
      "outputs": [
        {
          "output_type": "stream",
          "name": "stdout",
          "text": [
            "<class 'pandas.core.frame.DataFrame'>\n",
            "Int64Index: 67770 entries, 1 to 13\n",
            "Data columns (total 22 columns):\n",
            " #   Column                         Non-Null Count  Dtype         \n",
            "---  ------                         --------------  -----         \n",
            " 0   Claim Incident date            67770 non-null  datetime64[ns]\n",
            " 1   FE_Declaration_date            67770 non-null  datetime64[ns]\n",
            " 2   Initial coverage date          67770 non-null  datetime64[ns]\n",
            " 3   First claim decision date      67770 non-null  datetime64[ns]\n",
            " 4   Last claim decisión date       67750 non-null  datetime64[ns]\n",
            " 5   Insured amount                 67770 non-null  float64       \n",
            " 6   Initial_Instalment_Amount      67770 non-null  float64       \n",
            " 7   Policy Holder date of birth    67770 non-null  datetime64[ns]\n",
            " 8   Age at signature               67770 non-null  int64         \n",
            " 9   Sexo                           67770 non-null  object        \n",
            " 10  Refused decision reason code   17295 non-null  float64       \n",
            " 11  Trad_Refusal_reason            17295 non-null  object        \n",
            " 12  Refusal_Category               17295 non-null  object        \n",
            " 13  Claim_Status_Level_0           67770 non-null  object        \n",
            " 14  Refusal_Flag                   67770 non-null  object        \n",
            " 15  Local Partner name categories  67770 non-null  int64         \n",
            " 16  Insured NIF categories         67770 non-null  int64         \n",
            " 17  Claim Number categories        67770 non-null  int64         \n",
            " 18  percentage                     67770 non-null  float64       \n",
            " 19  Age policy at claim            67770 non-null  object        \n",
            " 20  Delay declaration              67770 non-null  object        \n",
            " 21  Age client at claim            67770 non-null  object        \n",
            "dtypes: datetime64[ns](6), float64(4), int64(4), object(8)\n",
            "memory usage: 11.9+ MB\n"
          ]
        }
      ]
    },
    {
      "cell_type": "markdown",
      "source": [
        "\n",
        "Now, we will split the dataset into:\n",
        "* __Y__: a vector containing whether or not a claim was refused\n",
        "* __X__: a matrix containing the features. For this matter, we will store the name of the features and the name of the target.\n",
        "\n",
        "Note that we exclude the date from the features used because we created the last three columns using them."
      ],
      "metadata": {
        "id": "VlORW9wpT-mK"
      },
      "id": "VlORW9wpT-mK"
    },
    {
      "cell_type": "code",
      "source": [
        "feature_names = [\n",
        "    \"Insured amount\",\n",
        "    \"Initial_Instalment_Amount\",\n",
        "    \"Age at signature\",\n",
        "    \"Sexo\",\n",
        "    \"Age policy at claim\",\n",
        "    \"Delay declaration\",\n",
        "    \"Age client at claim\",\n",
        "]\n",
        "target_names = \"Refusal_Flag\"\n",
        "X, y = df[feature_names].copy(), df[target_names].copy()"
      ],
      "metadata": {
        "id": "_ixWTl4zUHe7"
      },
      "id": "_ixWTl4zUHe7",
      "execution_count": 3,
      "outputs": []
    },
    {
      "cell_type": "code",
      "source": [
        "X.info()"
      ],
      "metadata": {
        "colab": {
          "base_uri": "https://localhost:8080/",
          "height": 0
        },
        "id": "Wpd3dp7bUSLF",
        "outputId": "7aa477d6-5df7-4a9e-e93c-1195416339f5"
      },
      "id": "Wpd3dp7bUSLF",
      "execution_count": 4,
      "outputs": [
        {
          "output_type": "stream",
          "name": "stdout",
          "text": [
            "<class 'pandas.core.frame.DataFrame'>\n",
            "Int64Index: 67770 entries, 1 to 13\n",
            "Data columns (total 7 columns):\n",
            " #   Column                     Non-Null Count  Dtype  \n",
            "---  ------                     --------------  -----  \n",
            " 0   Insured amount             67770 non-null  float64\n",
            " 1   Initial_Instalment_Amount  67770 non-null  float64\n",
            " 2   Age at signature           67770 non-null  int64  \n",
            " 3   Sexo                       67770 non-null  object \n",
            " 4   Age policy at claim        67770 non-null  object \n",
            " 5   Delay declaration          67770 non-null  object \n",
            " 6   Age client at claim        67770 non-null  object \n",
            "dtypes: float64(2), int64(1), object(4)\n",
            "memory usage: 4.1+ MB\n"
          ]
        }
      ]
    },
    {
      "cell_type": "code",
      "source": [
        "y.info()"
      ],
      "metadata": {
        "colab": {
          "base_uri": "https://localhost:8080/",
          "height": 0
        },
        "id": "ADEOuGO1UUYB",
        "outputId": "59e3fe20-ea29-4d36-ff43-4f034d349849"
      },
      "id": "ADEOuGO1UUYB",
      "execution_count": 5,
      "outputs": [
        {
          "output_type": "stream",
          "name": "stdout",
          "text": [
            "<class 'pandas.core.series.Series'>\n",
            "Int64Index: 67770 entries, 1 to 13\n",
            "Series name: Refusal_Flag\n",
            "Non-Null Count  Dtype \n",
            "--------------  ----- \n",
            "67770 non-null  object\n",
            "dtypes: object(1)\n",
            "memory usage: 1.0+ MB\n"
          ]
        }
      ]
    },
    {
      "cell_type": "markdown",
      "source": [
        "# Data Preprocessing\n",
        "In order to use the data with ML algorithmes: all columns must be converted/encoded in numerical values"
      ],
      "metadata": {
        "id": "5Y25NldXNnZP"
      },
      "id": "5Y25NldXNnZP"
    },
    {
      "cell_type": "markdown",
      "source": [
        "## Convert timedelta to number"
      ],
      "metadata": {
        "id": "VbEtSjZNOpgo"
      },
      "id": "VbEtSjZNOpgo"
    },
    {
      "cell_type": "markdown",
      "id": "375d5a04",
      "metadata": {
        "id": "375d5a04"
      },
      "source": [
        "We are reusing the data that we clean during the morning of the datacamp.\n",
        "\n",
        "Note that from the original dataset, we created three new columns:\n",
        "\n",
        "- the age of the policy at the time of claim\n",
        "- the delay of the claim\n",
        "- the age of the client at the time of claim\n",
        "\n",
        "Those columns were stored as `timedelta` (cf. [pandas documentation](https://pandas.pydata.org/docs/reference/api/pandas.Timedelta.html)) expressed in days."
      ]
    },
    {
      "cell_type": "code",
      "source": [
        "X[\"Age policy at claim\"].iloc[0]  # For the moment this column contains string like this"
      ],
      "metadata": {
        "colab": {
          "base_uri": "https://localhost:8080/",
          "height": 35
        },
        "id": "ri7FBHuwO4jU",
        "outputId": "bbb2e285-dfea-42d4-b5e8-baa13542de00"
      },
      "id": "ri7FBHuwO4jU",
      "execution_count": 6,
      "outputs": [
        {
          "output_type": "execute_result",
          "data": {
            "text/plain": [
              "'1658 days'"
            ],
            "application/vnd.google.colaboratory.intrinsic+json": {
              "type": "string"
            }
          },
          "metadata": {},
          "execution_count": 6
        }
      ]
    },
    {
      "cell_type": "markdown",
      "source": [
        "We convert these 3 columns into number of days in 2 steps:\n",
        "* `pd.to_timedelta` convert string into `timedelta` which is a format for diff between 2 datetimes values\n",
        "* `dt.days` convert the time difference in days so its become numerical"
      ],
      "metadata": {
        "id": "x9J9oqnyPIfL"
      },
      "id": "x9J9oqnyPIfL"
    },
    {
      "cell_type": "code",
      "source": [
        "X[\"Age policy at claim\"] = pd.to_timedelta(X[\"Age policy at claim\"]).dt.days\n",
        "X[\"Delay declaration\"] = pd.to_timedelta(X[\"Delay declaration\"]).dt.days\n",
        "X[\"Age client at claim\"] = pd.to_timedelta(X[\"Age client at claim\"]).dt.days"
      ],
      "metadata": {
        "id": "k-COgKzVLqed"
      },
      "id": "k-COgKzVLqed",
      "execution_count": 7,
      "outputs": []
    },
    {
      "cell_type": "code",
      "source": [
        "X[\"Age policy at claim\"].iloc[0]  # After conversion"
      ],
      "metadata": {
        "colab": {
          "base_uri": "https://localhost:8080/",
          "height": 0
        },
        "id": "PM9csnMaQamF",
        "outputId": "d0a8e3b6-bf98-46a1-f0fd-102431eff56e"
      },
      "id": "PM9csnMaQamF",
      "execution_count": 8,
      "outputs": [
        {
          "output_type": "execute_result",
          "data": {
            "text/plain": [
              "1658"
            ]
          },
          "metadata": {},
          "execution_count": 8
        }
      ]
    },
    {
      "cell_type": "markdown",
      "id": "f79ee325",
      "metadata": {
        "id": "f79ee325"
      },
      "source": [
        "We can check that all 3 columns are now integer"
      ]
    },
    {
      "cell_type": "code",
      "execution_count": 9,
      "id": "6e839bc5",
      "metadata": {
        "colab": {
          "base_uri": "https://localhost:8080/",
          "height": 0
        },
        "id": "6e839bc5",
        "outputId": "fbf40018-d0e6-414a-a4e2-6768bd454a81"
      },
      "outputs": [
        {
          "output_type": "stream",
          "name": "stdout",
          "text": [
            "<class 'pandas.core.frame.DataFrame'>\n",
            "Int64Index: 67770 entries, 1 to 13\n",
            "Data columns (total 7 columns):\n",
            " #   Column                     Non-Null Count  Dtype  \n",
            "---  ------                     --------------  -----  \n",
            " 0   Insured amount             67770 non-null  float64\n",
            " 1   Initial_Instalment_Amount  67770 non-null  float64\n",
            " 2   Age at signature           67770 non-null  int64  \n",
            " 3   Sexo                       67770 non-null  object \n",
            " 4   Age policy at claim        67770 non-null  int64  \n",
            " 5   Delay declaration          67770 non-null  int64  \n",
            " 6   Age client at claim        67770 non-null  int64  \n",
            "dtypes: float64(2), int64(4), object(1)\n",
            "memory usage: 4.1+ MB\n"
          ]
        }
      ],
      "source": [
        "X.info()"
      ]
    },
    {
      "cell_type": "markdown",
      "source": [
        "## Convert categorical feature to number\n",
        "The remaining column \"Sexo\" is a categorical column in form of string, we will have to convert it to numerical before training ML models.\n",
        "\n",
        "There are different methods to encode categories into numerical representation, but the methods will depends on which ML model is used. We will discuss each method corresponding to each ML model in the next section."
      ],
      "metadata": {
        "id": "C9Lmo9fWVE_m"
      },
      "id": "C9Lmo9fWVE_m"
    },
    {
      "cell_type": "code",
      "source": [
        "categorical_columns = [\n",
        "    \"Sexo\",\n",
        "]"
      ],
      "metadata": {
        "id": "Tu0L6FmWXxhx"
      },
      "id": "Tu0L6FmWXxhx",
      "execution_count": 10,
      "outputs": []
    },
    {
      "cell_type": "code",
      "source": [
        "# define the list of the numerical columns (the ones that are not categorical)\n",
        "numerical_columns = X.columns.difference(categorical_columns).tolist()\n",
        "numerical_columns"
      ],
      "metadata": {
        "colab": {
          "base_uri": "https://localhost:8080/",
          "height": 0
        },
        "id": "6FVKEABYX0-B",
        "outputId": "d6b88bb1-5252-465b-d542-1904eb7ec135"
      },
      "id": "6FVKEABYX0-B",
      "execution_count": 11,
      "outputs": [
        {
          "output_type": "execute_result",
          "data": {
            "text/plain": [
              "['Age at signature',\n",
              " 'Age client at claim',\n",
              " 'Age policy at claim',\n",
              " 'Delay declaration',\n",
              " 'Initial_Instalment_Amount',\n",
              " 'Insured amount']"
            ]
          },
          "metadata": {},
          "execution_count": 11
        }
      ]
    },
    {
      "cell_type": "markdown",
      "id": "ef55b0df",
      "metadata": {
        "id": "ef55b0df"
      },
      "source": [
        "# Creating basic predictive models\n",
        "\n",
        "Now, we can design some predictive model. Here, we will develop 3 predictive models:\n",
        "\n",
        "- a dummy classifier that is not going to use `X` to make any prediction. It is not an interesting model but it provides a kind of baseline.\n",
        "- a linear model with an adequate preprocessing. Indeed, the preprocessing has to contain a scaler and a one-hot encoder.\n",
        "- a gradient boosting decision trees model. This model should use an ordinal encoder in its preproceesing stage.\n",
        "\n",
        "Let's define the three models.\n",
        "\n"
      ]
    },
    {
      "cell_type": "markdown",
      "source": [
        "## Dummy classifier"
      ],
      "metadata": {
        "id": "6OTDfLcNXJFJ"
      },
      "id": "6OTDfLcNXJFJ"
    },
    {
      "cell_type": "code",
      "execution_count": 12,
      "id": "3fdcffe9",
      "metadata": {
        "id": "3fdcffe9"
      },
      "outputs": [],
      "source": [
        "from sklearn.dummy import DummyClassifier\n",
        "\n",
        "dummy_model = DummyClassifier()"
      ]
    },
    {
      "cell_type": "markdown",
      "id": "fb173907",
      "metadata": {
        "id": "fb173907"
      },
      "source": [
        "## Linear model\n",
        "\n",
        "We will apply LogisticRegression for this data. Logistic Regression algorithm requires the data to be prepared as following:\n",
        "* Numerical variable should be \"normalized\" to mean=0 and variance=1. This is done by applying `StandardScaler`.\n",
        "* Categorical variables should be encoded as binary (1/0) columns with OneHotEncoder."
      ]
    },
    {
      "cell_type": "markdown",
      "source": [
        "### One-hot encoding\n",
        "\n",
        "When using a linear model, we will be \"usually\" interested of having an independence between categories. Therefore, with such models, `OneHotEncoder` is an interesting encoder. We will reproduce the previous experiment to show what this encoder does."
      ],
      "metadata": {
        "id": "Vrss_6KuZIlJ"
      },
      "id": "Vrss_6KuZIlJ"
    },
    {
      "cell_type": "code",
      "execution_count": 13,
      "metadata": {
        "id": "426ed015"
      },
      "outputs": [],
      "source": [
        "from sklearn.preprocessing import OneHotEncoder\n",
        "\n",
        "encoder = OneHotEncoder(sparse_output=False)\n",
        "X_train_encoded = encoder.fit_transform(X[categorical_columns])"
      ],
      "id": "426ed015"
    },
    {
      "cell_type": "code",
      "execution_count": 14,
      "metadata": {
        "id": "0204c6d4",
        "colab": {
          "base_uri": "https://localhost:8080/",
          "height": 424
        },
        "outputId": "e9eb35b7-2111-4c52-80a1-be3b7b809cf5"
      },
      "outputs": [
        {
          "output_type": "execute_result",
          "data": {
            "text/plain": [
              "       Sexo_Femme  Sexo_Homme\n",
              "0             0.0         1.0\n",
              "1             1.0         0.0\n",
              "2             0.0         1.0\n",
              "3             1.0         0.0\n",
              "4             0.0         1.0\n",
              "...           ...         ...\n",
              "67765         0.0         1.0\n",
              "67766         0.0         1.0\n",
              "67767         0.0         1.0\n",
              "67768         0.0         1.0\n",
              "67769         0.0         1.0\n",
              "\n",
              "[67770 rows x 2 columns]"
            ],
            "text/html": [
              "\n",
              "  <div id=\"df-c33274dd-7fa1-44b2-accb-2b2971f588e4\">\n",
              "    <div class=\"colab-df-container\">\n",
              "      <div>\n",
              "<style scoped>\n",
              "    .dataframe tbody tr th:only-of-type {\n",
              "        vertical-align: middle;\n",
              "    }\n",
              "\n",
              "    .dataframe tbody tr th {\n",
              "        vertical-align: top;\n",
              "    }\n",
              "\n",
              "    .dataframe thead th {\n",
              "        text-align: right;\n",
              "    }\n",
              "</style>\n",
              "<table border=\"1\" class=\"dataframe\">\n",
              "  <thead>\n",
              "    <tr style=\"text-align: right;\">\n",
              "      <th></th>\n",
              "      <th>Sexo_Femme</th>\n",
              "      <th>Sexo_Homme</th>\n",
              "    </tr>\n",
              "  </thead>\n",
              "  <tbody>\n",
              "    <tr>\n",
              "      <th>0</th>\n",
              "      <td>0.0</td>\n",
              "      <td>1.0</td>\n",
              "    </tr>\n",
              "    <tr>\n",
              "      <th>1</th>\n",
              "      <td>1.0</td>\n",
              "      <td>0.0</td>\n",
              "    </tr>\n",
              "    <tr>\n",
              "      <th>2</th>\n",
              "      <td>0.0</td>\n",
              "      <td>1.0</td>\n",
              "    </tr>\n",
              "    <tr>\n",
              "      <th>3</th>\n",
              "      <td>1.0</td>\n",
              "      <td>0.0</td>\n",
              "    </tr>\n",
              "    <tr>\n",
              "      <th>4</th>\n",
              "      <td>0.0</td>\n",
              "      <td>1.0</td>\n",
              "    </tr>\n",
              "    <tr>\n",
              "      <th>...</th>\n",
              "      <td>...</td>\n",
              "      <td>...</td>\n",
              "    </tr>\n",
              "    <tr>\n",
              "      <th>67765</th>\n",
              "      <td>0.0</td>\n",
              "      <td>1.0</td>\n",
              "    </tr>\n",
              "    <tr>\n",
              "      <th>67766</th>\n",
              "      <td>0.0</td>\n",
              "      <td>1.0</td>\n",
              "    </tr>\n",
              "    <tr>\n",
              "      <th>67767</th>\n",
              "      <td>0.0</td>\n",
              "      <td>1.0</td>\n",
              "    </tr>\n",
              "    <tr>\n",
              "      <th>67768</th>\n",
              "      <td>0.0</td>\n",
              "      <td>1.0</td>\n",
              "    </tr>\n",
              "    <tr>\n",
              "      <th>67769</th>\n",
              "      <td>0.0</td>\n",
              "      <td>1.0</td>\n",
              "    </tr>\n",
              "  </tbody>\n",
              "</table>\n",
              "<p>67770 rows × 2 columns</p>\n",
              "</div>\n",
              "      <button class=\"colab-df-convert\" onclick=\"convertToInteractive('df-c33274dd-7fa1-44b2-accb-2b2971f588e4')\"\n",
              "              title=\"Convert this dataframe to an interactive table.\"\n",
              "              style=\"display:none;\">\n",
              "        \n",
              "  <svg xmlns=\"http://www.w3.org/2000/svg\" height=\"24px\"viewBox=\"0 0 24 24\"\n",
              "       width=\"24px\">\n",
              "    <path d=\"M0 0h24v24H0V0z\" fill=\"none\"/>\n",
              "    <path d=\"M18.56 5.44l.94 2.06.94-2.06 2.06-.94-2.06-.94-.94-2.06-.94 2.06-2.06.94zm-11 1L8.5 8.5l.94-2.06 2.06-.94-2.06-.94L8.5 2.5l-.94 2.06-2.06.94zm10 10l.94 2.06.94-2.06 2.06-.94-2.06-.94-.94-2.06-.94 2.06-2.06.94z\"/><path d=\"M17.41 7.96l-1.37-1.37c-.4-.4-.92-.59-1.43-.59-.52 0-1.04.2-1.43.59L10.3 9.45l-7.72 7.72c-.78.78-.78 2.05 0 2.83L4 21.41c.39.39.9.59 1.41.59.51 0 1.02-.2 1.41-.59l7.78-7.78 2.81-2.81c.8-.78.8-2.07 0-2.86zM5.41 20L4 18.59l7.72-7.72 1.47 1.35L5.41 20z\"/>\n",
              "  </svg>\n",
              "      </button>\n",
              "      \n",
              "  <style>\n",
              "    .colab-df-container {\n",
              "      display:flex;\n",
              "      flex-wrap:wrap;\n",
              "      gap: 12px;\n",
              "    }\n",
              "\n",
              "    .colab-df-convert {\n",
              "      background-color: #E8F0FE;\n",
              "      border: none;\n",
              "      border-radius: 50%;\n",
              "      cursor: pointer;\n",
              "      display: none;\n",
              "      fill: #1967D2;\n",
              "      height: 32px;\n",
              "      padding: 0 0 0 0;\n",
              "      width: 32px;\n",
              "    }\n",
              "\n",
              "    .colab-df-convert:hover {\n",
              "      background-color: #E2EBFA;\n",
              "      box-shadow: 0px 1px 2px rgba(60, 64, 67, 0.3), 0px 1px 3px 1px rgba(60, 64, 67, 0.15);\n",
              "      fill: #174EA6;\n",
              "    }\n",
              "\n",
              "    [theme=dark] .colab-df-convert {\n",
              "      background-color: #3B4455;\n",
              "      fill: #D2E3FC;\n",
              "    }\n",
              "\n",
              "    [theme=dark] .colab-df-convert:hover {\n",
              "      background-color: #434B5C;\n",
              "      box-shadow: 0px 1px 3px 1px rgba(0, 0, 0, 0.15);\n",
              "      filter: drop-shadow(0px 1px 2px rgba(0, 0, 0, 0.3));\n",
              "      fill: #FFFFFF;\n",
              "    }\n",
              "  </style>\n",
              "\n",
              "      <script>\n",
              "        const buttonEl =\n",
              "          document.querySelector('#df-c33274dd-7fa1-44b2-accb-2b2971f588e4 button.colab-df-convert');\n",
              "        buttonEl.style.display =\n",
              "          google.colab.kernel.accessAllowed ? 'block' : 'none';\n",
              "\n",
              "        async function convertToInteractive(key) {\n",
              "          const element = document.querySelector('#df-c33274dd-7fa1-44b2-accb-2b2971f588e4');\n",
              "          const dataTable =\n",
              "            await google.colab.kernel.invokeFunction('convertToInteractive',\n",
              "                                                     [key], {});\n",
              "          if (!dataTable) return;\n",
              "\n",
              "          const docLinkHtml = 'Like what you see? Visit the ' +\n",
              "            '<a target=\"_blank\" href=https://colab.research.google.com/notebooks/data_table.ipynb>data table notebook</a>'\n",
              "            + ' to learn more about interactive tables.';\n",
              "          element.innerHTML = '';\n",
              "          dataTable['output_type'] = 'display_data';\n",
              "          await google.colab.output.renderOutput(dataTable, element);\n",
              "          const docLink = document.createElement('div');\n",
              "          docLink.innerHTML = docLinkHtml;\n",
              "          element.appendChild(docLink);\n",
              "        }\n",
              "      </script>\n",
              "    </div>\n",
              "  </div>\n",
              "  "
            ]
          },
          "metadata": {},
          "execution_count": 14
        }
      ],
      "source": [
        "X_train_encoded = pd.DataFrame(\n",
        "    X_train_encoded, columns=encoder.get_feature_names_out()\n",
        ")\n",
        "X_train_encoded"
      ],
      "id": "0204c6d4"
    },
    {
      "cell_type": "markdown",
      "metadata": {
        "id": "aae90263"
      },
      "source": [
        "We see that each category becomes a column and that an indicator 0/1 is used to indicate whether or not we deal with the category for this sample."
      ],
      "id": "aae90263"
    },
    {
      "cell_type": "markdown",
      "source": [
        "### Combining all the steps\n",
        "\n",
        "Now let's build the linear model pipeline"
      ],
      "metadata": {
        "id": "KQSiRkPzaI4Y"
      },
      "id": "KQSiRkPzaI4Y"
    },
    {
      "cell_type": "code",
      "source": [
        "from sklearn.compose import ColumnTransformer\n",
        "from sklearn.pipeline import Pipeline\n",
        "from sklearn.preprocessing import StandardScaler\n",
        "from sklearn.linear_model import LogisticRegression"
      ],
      "metadata": {
        "id": "HEXDcHDnX_54"
      },
      "id": "HEXDcHDnX_54",
      "execution_count": 15,
      "outputs": []
    },
    {
      "cell_type": "code",
      "execution_count": 16,
      "id": "ad96b039",
      "metadata": {
        "colab": {
          "base_uri": "https://localhost:8080/",
          "height": 192
        },
        "id": "ad96b039",
        "outputId": "6e888a8d-ffc9-43ee-f243-01bc98bfac28"
      },
      "outputs": [
        {
          "output_type": "execute_result",
          "data": {
            "text/plain": [
              "Pipeline(steps=[('preprocessor',\n",
              "                 ColumnTransformer(transformers=[('categorical_processor',\n",
              "                                                  OneHotEncoder(), ['Sexo']),\n",
              "                                                 ('numerical_processor',\n",
              "                                                  StandardScaler(),\n",
              "                                                  ['Age at signature',\n",
              "                                                   'Age client at claim',\n",
              "                                                   'Age policy at claim',\n",
              "                                                   'Delay declaration',\n",
              "                                                   'Initial_Instalment_Amount',\n",
              "                                                   'Insured amount'])])),\n",
              "                ('classifier', LogisticRegression())])"
            ],
            "text/html": [
              "<style>#sk-container-id-1 {color: black;background-color: white;}#sk-container-id-1 pre{padding: 0;}#sk-container-id-1 div.sk-toggleable {background-color: white;}#sk-container-id-1 label.sk-toggleable__label {cursor: pointer;display: block;width: 100%;margin-bottom: 0;padding: 0.3em;box-sizing: border-box;text-align: center;}#sk-container-id-1 label.sk-toggleable__label-arrow:before {content: \"▸\";float: left;margin-right: 0.25em;color: #696969;}#sk-container-id-1 label.sk-toggleable__label-arrow:hover:before {color: black;}#sk-container-id-1 div.sk-estimator:hover label.sk-toggleable__label-arrow:before {color: black;}#sk-container-id-1 div.sk-toggleable__content {max-height: 0;max-width: 0;overflow: hidden;text-align: left;background-color: #f0f8ff;}#sk-container-id-1 div.sk-toggleable__content pre {margin: 0.2em;color: black;border-radius: 0.25em;background-color: #f0f8ff;}#sk-container-id-1 input.sk-toggleable__control:checked~div.sk-toggleable__content {max-height: 200px;max-width: 100%;overflow: auto;}#sk-container-id-1 input.sk-toggleable__control:checked~label.sk-toggleable__label-arrow:before {content: \"▾\";}#sk-container-id-1 div.sk-estimator input.sk-toggleable__control:checked~label.sk-toggleable__label {background-color: #d4ebff;}#sk-container-id-1 div.sk-label input.sk-toggleable__control:checked~label.sk-toggleable__label {background-color: #d4ebff;}#sk-container-id-1 input.sk-hidden--visually {border: 0;clip: rect(1px 1px 1px 1px);clip: rect(1px, 1px, 1px, 1px);height: 1px;margin: -1px;overflow: hidden;padding: 0;position: absolute;width: 1px;}#sk-container-id-1 div.sk-estimator {font-family: monospace;background-color: #f0f8ff;border: 1px dotted black;border-radius: 0.25em;box-sizing: border-box;margin-bottom: 0.5em;}#sk-container-id-1 div.sk-estimator:hover {background-color: #d4ebff;}#sk-container-id-1 div.sk-parallel-item::after {content: \"\";width: 100%;border-bottom: 1px solid gray;flex-grow: 1;}#sk-container-id-1 div.sk-label:hover label.sk-toggleable__label {background-color: #d4ebff;}#sk-container-id-1 div.sk-serial::before {content: \"\";position: absolute;border-left: 1px solid gray;box-sizing: border-box;top: 0;bottom: 0;left: 50%;z-index: 0;}#sk-container-id-1 div.sk-serial {display: flex;flex-direction: column;align-items: center;background-color: white;padding-right: 0.2em;padding-left: 0.2em;position: relative;}#sk-container-id-1 div.sk-item {position: relative;z-index: 1;}#sk-container-id-1 div.sk-parallel {display: flex;align-items: stretch;justify-content: center;background-color: white;position: relative;}#sk-container-id-1 div.sk-item::before, #sk-container-id-1 div.sk-parallel-item::before {content: \"\";position: absolute;border-left: 1px solid gray;box-sizing: border-box;top: 0;bottom: 0;left: 50%;z-index: -1;}#sk-container-id-1 div.sk-parallel-item {display: flex;flex-direction: column;z-index: 1;position: relative;background-color: white;}#sk-container-id-1 div.sk-parallel-item:first-child::after {align-self: flex-end;width: 50%;}#sk-container-id-1 div.sk-parallel-item:last-child::after {align-self: flex-start;width: 50%;}#sk-container-id-1 div.sk-parallel-item:only-child::after {width: 0;}#sk-container-id-1 div.sk-dashed-wrapped {border: 1px dashed gray;margin: 0 0.4em 0.5em 0.4em;box-sizing: border-box;padding-bottom: 0.4em;background-color: white;}#sk-container-id-1 div.sk-label label {font-family: monospace;font-weight: bold;display: inline-block;line-height: 1.2em;}#sk-container-id-1 div.sk-label-container {text-align: center;}#sk-container-id-1 div.sk-container {/* jupyter's `normalize.less` sets `[hidden] { display: none; }` but bootstrap.min.css set `[hidden] { display: none !important; }` so we also need the `!important` here to be able to override the default hidden behavior on the sphinx rendered scikit-learn.org. See: https://github.com/scikit-learn/scikit-learn/issues/21755 */display: inline-block !important;position: relative;}#sk-container-id-1 div.sk-text-repr-fallback {display: none;}</style><div id=\"sk-container-id-1\" class=\"sk-top-container\"><div class=\"sk-text-repr-fallback\"><pre>Pipeline(steps=[(&#x27;preprocessor&#x27;,\n",
              "                 ColumnTransformer(transformers=[(&#x27;categorical_processor&#x27;,\n",
              "                                                  OneHotEncoder(), [&#x27;Sexo&#x27;]),\n",
              "                                                 (&#x27;numerical_processor&#x27;,\n",
              "                                                  StandardScaler(),\n",
              "                                                  [&#x27;Age at signature&#x27;,\n",
              "                                                   &#x27;Age client at claim&#x27;,\n",
              "                                                   &#x27;Age policy at claim&#x27;,\n",
              "                                                   &#x27;Delay declaration&#x27;,\n",
              "                                                   &#x27;Initial_Instalment_Amount&#x27;,\n",
              "                                                   &#x27;Insured amount&#x27;])])),\n",
              "                (&#x27;classifier&#x27;, LogisticRegression())])</pre><b>In a Jupyter environment, please rerun this cell to show the HTML representation or trust the notebook. <br />On GitHub, the HTML representation is unable to render, please try loading this page with nbviewer.org.</b></div><div class=\"sk-container\" hidden><div class=\"sk-item sk-dashed-wrapped\"><div class=\"sk-label-container\"><div class=\"sk-label sk-toggleable\"><input class=\"sk-toggleable__control sk-hidden--visually\" id=\"sk-estimator-id-1\" type=\"checkbox\" ><label for=\"sk-estimator-id-1\" class=\"sk-toggleable__label sk-toggleable__label-arrow\">Pipeline</label><div class=\"sk-toggleable__content\"><pre>Pipeline(steps=[(&#x27;preprocessor&#x27;,\n",
              "                 ColumnTransformer(transformers=[(&#x27;categorical_processor&#x27;,\n",
              "                                                  OneHotEncoder(), [&#x27;Sexo&#x27;]),\n",
              "                                                 (&#x27;numerical_processor&#x27;,\n",
              "                                                  StandardScaler(),\n",
              "                                                  [&#x27;Age at signature&#x27;,\n",
              "                                                   &#x27;Age client at claim&#x27;,\n",
              "                                                   &#x27;Age policy at claim&#x27;,\n",
              "                                                   &#x27;Delay declaration&#x27;,\n",
              "                                                   &#x27;Initial_Instalment_Amount&#x27;,\n",
              "                                                   &#x27;Insured amount&#x27;])])),\n",
              "                (&#x27;classifier&#x27;, LogisticRegression())])</pre></div></div></div><div class=\"sk-serial\"><div class=\"sk-item sk-dashed-wrapped\"><div class=\"sk-label-container\"><div class=\"sk-label sk-toggleable\"><input class=\"sk-toggleable__control sk-hidden--visually\" id=\"sk-estimator-id-2\" type=\"checkbox\" ><label for=\"sk-estimator-id-2\" class=\"sk-toggleable__label sk-toggleable__label-arrow\">preprocessor: ColumnTransformer</label><div class=\"sk-toggleable__content\"><pre>ColumnTransformer(transformers=[(&#x27;categorical_processor&#x27;, OneHotEncoder(),\n",
              "                                 [&#x27;Sexo&#x27;]),\n",
              "                                (&#x27;numerical_processor&#x27;, StandardScaler(),\n",
              "                                 [&#x27;Age at signature&#x27;, &#x27;Age client at claim&#x27;,\n",
              "                                  &#x27;Age policy at claim&#x27;, &#x27;Delay declaration&#x27;,\n",
              "                                  &#x27;Initial_Instalment_Amount&#x27;,\n",
              "                                  &#x27;Insured amount&#x27;])])</pre></div></div></div><div class=\"sk-parallel\"><div class=\"sk-parallel-item\"><div class=\"sk-item\"><div class=\"sk-label-container\"><div class=\"sk-label sk-toggleable\"><input class=\"sk-toggleable__control sk-hidden--visually\" id=\"sk-estimator-id-3\" type=\"checkbox\" ><label for=\"sk-estimator-id-3\" class=\"sk-toggleable__label sk-toggleable__label-arrow\">categorical_processor</label><div class=\"sk-toggleable__content\"><pre>[&#x27;Sexo&#x27;]</pre></div></div></div><div class=\"sk-serial\"><div class=\"sk-item\"><div class=\"sk-estimator sk-toggleable\"><input class=\"sk-toggleable__control sk-hidden--visually\" id=\"sk-estimator-id-4\" type=\"checkbox\" ><label for=\"sk-estimator-id-4\" class=\"sk-toggleable__label sk-toggleable__label-arrow\">OneHotEncoder</label><div class=\"sk-toggleable__content\"><pre>OneHotEncoder()</pre></div></div></div></div></div></div><div class=\"sk-parallel-item\"><div class=\"sk-item\"><div class=\"sk-label-container\"><div class=\"sk-label sk-toggleable\"><input class=\"sk-toggleable__control sk-hidden--visually\" id=\"sk-estimator-id-5\" type=\"checkbox\" ><label for=\"sk-estimator-id-5\" class=\"sk-toggleable__label sk-toggleable__label-arrow\">numerical_processor</label><div class=\"sk-toggleable__content\"><pre>[&#x27;Age at signature&#x27;, &#x27;Age client at claim&#x27;, &#x27;Age policy at claim&#x27;, &#x27;Delay declaration&#x27;, &#x27;Initial_Instalment_Amount&#x27;, &#x27;Insured amount&#x27;]</pre></div></div></div><div class=\"sk-serial\"><div class=\"sk-item\"><div class=\"sk-estimator sk-toggleable\"><input class=\"sk-toggleable__control sk-hidden--visually\" id=\"sk-estimator-id-6\" type=\"checkbox\" ><label for=\"sk-estimator-id-6\" class=\"sk-toggleable__label sk-toggleable__label-arrow\">StandardScaler</label><div class=\"sk-toggleable__content\"><pre>StandardScaler()</pre></div></div></div></div></div></div></div></div><div class=\"sk-item\"><div class=\"sk-estimator sk-toggleable\"><input class=\"sk-toggleable__control sk-hidden--visually\" id=\"sk-estimator-id-7\" type=\"checkbox\" ><label for=\"sk-estimator-id-7\" class=\"sk-toggleable__label sk-toggleable__label-arrow\">LogisticRegression</label><div class=\"sk-toggleable__content\"><pre>LogisticRegression()</pre></div></div></div></div></div></div></div>"
            ]
          },
          "metadata": {},
          "execution_count": 16
        }
      ],
      "source": [
        "preprocessor = ColumnTransformer(  # ColumnTransformer will transform columns with corresponding preprocessing step\n",
        "    transformers=[\n",
        "        (\"categorical_processor\", OneHotEncoder(), categorical_columns),  # apply OneHotEncoder to categorical columns\n",
        "        (\"numerical_processor\", StandardScaler(), numerical_columns),  # apply StandardScaler to numerical columns\n",
        "])\n",
        "\n",
        "linear_model = Pipeline(  # Pipeline will combine steps into one chain of data processing\n",
        "    steps=[\n",
        "        (\"preprocessor\", preprocessor),  # first preprocess data\n",
        "        (\"classifier\", LogisticRegression())  # then apply Logistic Regression\n",
        "])\n",
        "linear_model"
      ]
    },
    {
      "cell_type": "markdown",
      "id": "ef5f9e2b",
      "metadata": {
        "id": "ef5f9e2b"
      },
      "source": [
        "## Tree-based model\n",
        "\n",
        "Tree based model do not require to normalize numerical variable, and categorical variables can be used with OrdinalEncoding method."
      ]
    },
    {
      "cell_type": "markdown",
      "id": "425a75dc",
      "metadata": {
        "id": "425a75dc"
      },
      "source": [
        "### Ordinal encoding\n",
        "\n",
        "The simplest encoding that we can use is to replace each category by an integer. We will therefore have categories represented by values between `[0, n_categories - 1]`. We will illustrate below such encoding:"
      ]
    },
    {
      "cell_type": "code",
      "execution_count": 17,
      "id": "3b7cb1d9",
      "metadata": {
        "colab": {
          "base_uri": "https://localhost:8080/",
          "height": 0
        },
        "id": "3b7cb1d9",
        "outputId": "4b67ef17-e5c5-459e-a547-ee02094f27ca"
      },
      "outputs": [
        {
          "output_type": "execute_result",
          "data": {
            "text/plain": [
              "array([[1.],\n",
              "       [0.],\n",
              "       [1.],\n",
              "       ...,\n",
              "       [1.],\n",
              "       [1.],\n",
              "       [1.]])"
            ]
          },
          "metadata": {},
          "execution_count": 17
        }
      ],
      "source": [
        "from sklearn.preprocessing import OrdinalEncoder\n",
        "\n",
        "encoder = OrdinalEncoder()\n",
        "X_train_encoded = encoder.fit_transform(X[categorical_columns])\n",
        "X_train_encoded"
      ]
    },
    {
      "cell_type": "markdown",
      "id": "5573b50e",
      "metadata": {
        "id": "5573b50e"
      },
      "source": [
        "The output of scikit-learn will be a NumPy array. We can create a pandas `DataFrame` using the `get_feature_names_out` method to generate the column names. This method allows to track complex column transformation in scikit-learn `Pipeline` as well."
      ]
    },
    {
      "cell_type": "code",
      "execution_count": 18,
      "id": "a53b341d",
      "metadata": {
        "colab": {
          "base_uri": "https://localhost:8080/",
          "height": 424
        },
        "id": "a53b341d",
        "outputId": "b8766278-a948-49ff-ca42-c486072649bd"
      },
      "outputs": [
        {
          "output_type": "execute_result",
          "data": {
            "text/plain": [
              "       Sexo\n",
              "0       1.0\n",
              "1       0.0\n",
              "2       1.0\n",
              "3       0.0\n",
              "4       1.0\n",
              "...     ...\n",
              "67765   1.0\n",
              "67766   1.0\n",
              "67767   1.0\n",
              "67768   1.0\n",
              "67769   1.0\n",
              "\n",
              "[67770 rows x 1 columns]"
            ],
            "text/html": [
              "\n",
              "  <div id=\"df-8dd33da7-a27f-4627-8a1e-1bab2b664517\">\n",
              "    <div class=\"colab-df-container\">\n",
              "      <div>\n",
              "<style scoped>\n",
              "    .dataframe tbody tr th:only-of-type {\n",
              "        vertical-align: middle;\n",
              "    }\n",
              "\n",
              "    .dataframe tbody tr th {\n",
              "        vertical-align: top;\n",
              "    }\n",
              "\n",
              "    .dataframe thead th {\n",
              "        text-align: right;\n",
              "    }\n",
              "</style>\n",
              "<table border=\"1\" class=\"dataframe\">\n",
              "  <thead>\n",
              "    <tr style=\"text-align: right;\">\n",
              "      <th></th>\n",
              "      <th>Sexo</th>\n",
              "    </tr>\n",
              "  </thead>\n",
              "  <tbody>\n",
              "    <tr>\n",
              "      <th>0</th>\n",
              "      <td>1.0</td>\n",
              "    </tr>\n",
              "    <tr>\n",
              "      <th>1</th>\n",
              "      <td>0.0</td>\n",
              "    </tr>\n",
              "    <tr>\n",
              "      <th>2</th>\n",
              "      <td>1.0</td>\n",
              "    </tr>\n",
              "    <tr>\n",
              "      <th>3</th>\n",
              "      <td>0.0</td>\n",
              "    </tr>\n",
              "    <tr>\n",
              "      <th>4</th>\n",
              "      <td>1.0</td>\n",
              "    </tr>\n",
              "    <tr>\n",
              "      <th>...</th>\n",
              "      <td>...</td>\n",
              "    </tr>\n",
              "    <tr>\n",
              "      <th>67765</th>\n",
              "      <td>1.0</td>\n",
              "    </tr>\n",
              "    <tr>\n",
              "      <th>67766</th>\n",
              "      <td>1.0</td>\n",
              "    </tr>\n",
              "    <tr>\n",
              "      <th>67767</th>\n",
              "      <td>1.0</td>\n",
              "    </tr>\n",
              "    <tr>\n",
              "      <th>67768</th>\n",
              "      <td>1.0</td>\n",
              "    </tr>\n",
              "    <tr>\n",
              "      <th>67769</th>\n",
              "      <td>1.0</td>\n",
              "    </tr>\n",
              "  </tbody>\n",
              "</table>\n",
              "<p>67770 rows × 1 columns</p>\n",
              "</div>\n",
              "      <button class=\"colab-df-convert\" onclick=\"convertToInteractive('df-8dd33da7-a27f-4627-8a1e-1bab2b664517')\"\n",
              "              title=\"Convert this dataframe to an interactive table.\"\n",
              "              style=\"display:none;\">\n",
              "        \n",
              "  <svg xmlns=\"http://www.w3.org/2000/svg\" height=\"24px\"viewBox=\"0 0 24 24\"\n",
              "       width=\"24px\">\n",
              "    <path d=\"M0 0h24v24H0V0z\" fill=\"none\"/>\n",
              "    <path d=\"M18.56 5.44l.94 2.06.94-2.06 2.06-.94-2.06-.94-.94-2.06-.94 2.06-2.06.94zm-11 1L8.5 8.5l.94-2.06 2.06-.94-2.06-.94L8.5 2.5l-.94 2.06-2.06.94zm10 10l.94 2.06.94-2.06 2.06-.94-2.06-.94-.94-2.06-.94 2.06-2.06.94z\"/><path d=\"M17.41 7.96l-1.37-1.37c-.4-.4-.92-.59-1.43-.59-.52 0-1.04.2-1.43.59L10.3 9.45l-7.72 7.72c-.78.78-.78 2.05 0 2.83L4 21.41c.39.39.9.59 1.41.59.51 0 1.02-.2 1.41-.59l7.78-7.78 2.81-2.81c.8-.78.8-2.07 0-2.86zM5.41 20L4 18.59l7.72-7.72 1.47 1.35L5.41 20z\"/>\n",
              "  </svg>\n",
              "      </button>\n",
              "      \n",
              "  <style>\n",
              "    .colab-df-container {\n",
              "      display:flex;\n",
              "      flex-wrap:wrap;\n",
              "      gap: 12px;\n",
              "    }\n",
              "\n",
              "    .colab-df-convert {\n",
              "      background-color: #E8F0FE;\n",
              "      border: none;\n",
              "      border-radius: 50%;\n",
              "      cursor: pointer;\n",
              "      display: none;\n",
              "      fill: #1967D2;\n",
              "      height: 32px;\n",
              "      padding: 0 0 0 0;\n",
              "      width: 32px;\n",
              "    }\n",
              "\n",
              "    .colab-df-convert:hover {\n",
              "      background-color: #E2EBFA;\n",
              "      box-shadow: 0px 1px 2px rgba(60, 64, 67, 0.3), 0px 1px 3px 1px rgba(60, 64, 67, 0.15);\n",
              "      fill: #174EA6;\n",
              "    }\n",
              "\n",
              "    [theme=dark] .colab-df-convert {\n",
              "      background-color: #3B4455;\n",
              "      fill: #D2E3FC;\n",
              "    }\n",
              "\n",
              "    [theme=dark] .colab-df-convert:hover {\n",
              "      background-color: #434B5C;\n",
              "      box-shadow: 0px 1px 3px 1px rgba(0, 0, 0, 0.15);\n",
              "      filter: drop-shadow(0px 1px 2px rgba(0, 0, 0, 0.3));\n",
              "      fill: #FFFFFF;\n",
              "    }\n",
              "  </style>\n",
              "\n",
              "      <script>\n",
              "        const buttonEl =\n",
              "          document.querySelector('#df-8dd33da7-a27f-4627-8a1e-1bab2b664517 button.colab-df-convert');\n",
              "        buttonEl.style.display =\n",
              "          google.colab.kernel.accessAllowed ? 'block' : 'none';\n",
              "\n",
              "        async function convertToInteractive(key) {\n",
              "          const element = document.querySelector('#df-8dd33da7-a27f-4627-8a1e-1bab2b664517');\n",
              "          const dataTable =\n",
              "            await google.colab.kernel.invokeFunction('convertToInteractive',\n",
              "                                                     [key], {});\n",
              "          if (!dataTable) return;\n",
              "\n",
              "          const docLinkHtml = 'Like what you see? Visit the ' +\n",
              "            '<a target=\"_blank\" href=https://colab.research.google.com/notebooks/data_table.ipynb>data table notebook</a>'\n",
              "            + ' to learn more about interactive tables.';\n",
              "          element.innerHTML = '';\n",
              "          dataTable['output_type'] = 'display_data';\n",
              "          await google.colab.output.renderOutput(dataTable, element);\n",
              "          const docLink = document.createElement('div');\n",
              "          docLink.innerHTML = docLinkHtml;\n",
              "          element.appendChild(docLink);\n",
              "        }\n",
              "      </script>\n",
              "    </div>\n",
              "  </div>\n",
              "  "
            ]
          },
          "metadata": {},
          "execution_count": 18
        }
      ],
      "source": [
        "X_train_encoded = pd.DataFrame(\n",
        "    X_train_encoded, columns=encoder.get_feature_names_out()\n",
        ")\n",
        "X_train_encoded"
      ]
    },
    {
      "cell_type": "markdown",
      "id": "e3b9b4ef",
      "metadata": {
        "id": "e3b9b4ef"
      },
      "source": [
        "We observe that each categories is therefore encoded with an integer. We could check the correspondence by looking at the fitted attributes of the encoder."
      ]
    },
    {
      "cell_type": "code",
      "execution_count": 19,
      "id": "2f359956",
      "metadata": {
        "colab": {
          "base_uri": "https://localhost:8080/",
          "height": 0
        },
        "id": "2f359956",
        "outputId": "90ed0a68-719d-4782-8332-252558de733e"
      },
      "outputs": [
        {
          "output_type": "stream",
          "name": "stdout",
          "text": [
            "For feature named 'Sexo'\n",
            "\n",
            "\tCategory 'Femme' mapped to 0\n",
            "\tCategory 'Homme' mapped to 1\n",
            "\n"
          ]
        }
      ],
      "source": [
        "for col_name, col_categories in zip(\n",
        "    encoder.get_feature_names_out(),\n",
        "    encoder.categories_\n",
        "):\n",
        "    print(f\"For feature named {col_name!r}\")\n",
        "    print()\n",
        "    for code, cat in enumerate(col_categories):\n",
        "        print(f\"\\tCategory {cat!r} mapped to {code}\")\n",
        "    print()"
      ]
    },
    {
      "cell_type": "markdown",
      "id": "1171b9da",
      "metadata": {
        "id": "1171b9da"
      },
      "source": [
        "This type of encoder is imposing an ordering and it is not always adequate for linear model in which we don't want to impose such modeling. It is therefore the encoder of choice used in tree-based models.\n",
        "\n"
      ]
    },
    {
      "cell_type": "markdown",
      "source": [
        "### Combine into model pipeline\n",
        "\n",
        "We combine the OrdinalEncoder with a Gradient Boosting classifier to create a tree based modeling pipeline\n",
        "\n"
      ],
      "metadata": {
        "id": "pFQSsSFsczoe"
      },
      "id": "pFQSsSFsczoe"
    },
    {
      "cell_type": "code",
      "execution_count": 20,
      "id": "a2cce582",
      "metadata": {
        "colab": {
          "base_uri": "https://localhost:8080/",
          "height": 192
        },
        "id": "a2cce582",
        "outputId": "4b31da5d-ce84-4e88-82fe-e3ca782fca74"
      },
      "outputs": [
        {
          "output_type": "execute_result",
          "data": {
            "text/plain": [
              "Pipeline(steps=[('preprocessor',\n",
              "                 ColumnTransformer(remainder='passthrough',\n",
              "                                   transformers=[('categorical_processor',\n",
              "                                                  OrdinalEncoder(),\n",
              "                                                  ['Sexo'])])),\n",
              "                ('classifier', HistGradientBoostingClassifier(random_state=0))])"
            ],
            "text/html": [
              "<style>#sk-container-id-2 {color: black;background-color: white;}#sk-container-id-2 pre{padding: 0;}#sk-container-id-2 div.sk-toggleable {background-color: white;}#sk-container-id-2 label.sk-toggleable__label {cursor: pointer;display: block;width: 100%;margin-bottom: 0;padding: 0.3em;box-sizing: border-box;text-align: center;}#sk-container-id-2 label.sk-toggleable__label-arrow:before {content: \"▸\";float: left;margin-right: 0.25em;color: #696969;}#sk-container-id-2 label.sk-toggleable__label-arrow:hover:before {color: black;}#sk-container-id-2 div.sk-estimator:hover label.sk-toggleable__label-arrow:before {color: black;}#sk-container-id-2 div.sk-toggleable__content {max-height: 0;max-width: 0;overflow: hidden;text-align: left;background-color: #f0f8ff;}#sk-container-id-2 div.sk-toggleable__content pre {margin: 0.2em;color: black;border-radius: 0.25em;background-color: #f0f8ff;}#sk-container-id-2 input.sk-toggleable__control:checked~div.sk-toggleable__content {max-height: 200px;max-width: 100%;overflow: auto;}#sk-container-id-2 input.sk-toggleable__control:checked~label.sk-toggleable__label-arrow:before {content: \"▾\";}#sk-container-id-2 div.sk-estimator input.sk-toggleable__control:checked~label.sk-toggleable__label {background-color: #d4ebff;}#sk-container-id-2 div.sk-label input.sk-toggleable__control:checked~label.sk-toggleable__label {background-color: #d4ebff;}#sk-container-id-2 input.sk-hidden--visually {border: 0;clip: rect(1px 1px 1px 1px);clip: rect(1px, 1px, 1px, 1px);height: 1px;margin: -1px;overflow: hidden;padding: 0;position: absolute;width: 1px;}#sk-container-id-2 div.sk-estimator {font-family: monospace;background-color: #f0f8ff;border: 1px dotted black;border-radius: 0.25em;box-sizing: border-box;margin-bottom: 0.5em;}#sk-container-id-2 div.sk-estimator:hover {background-color: #d4ebff;}#sk-container-id-2 div.sk-parallel-item::after {content: \"\";width: 100%;border-bottom: 1px solid gray;flex-grow: 1;}#sk-container-id-2 div.sk-label:hover label.sk-toggleable__label {background-color: #d4ebff;}#sk-container-id-2 div.sk-serial::before {content: \"\";position: absolute;border-left: 1px solid gray;box-sizing: border-box;top: 0;bottom: 0;left: 50%;z-index: 0;}#sk-container-id-2 div.sk-serial {display: flex;flex-direction: column;align-items: center;background-color: white;padding-right: 0.2em;padding-left: 0.2em;position: relative;}#sk-container-id-2 div.sk-item {position: relative;z-index: 1;}#sk-container-id-2 div.sk-parallel {display: flex;align-items: stretch;justify-content: center;background-color: white;position: relative;}#sk-container-id-2 div.sk-item::before, #sk-container-id-2 div.sk-parallel-item::before {content: \"\";position: absolute;border-left: 1px solid gray;box-sizing: border-box;top: 0;bottom: 0;left: 50%;z-index: -1;}#sk-container-id-2 div.sk-parallel-item {display: flex;flex-direction: column;z-index: 1;position: relative;background-color: white;}#sk-container-id-2 div.sk-parallel-item:first-child::after {align-self: flex-end;width: 50%;}#sk-container-id-2 div.sk-parallel-item:last-child::after {align-self: flex-start;width: 50%;}#sk-container-id-2 div.sk-parallel-item:only-child::after {width: 0;}#sk-container-id-2 div.sk-dashed-wrapped {border: 1px dashed gray;margin: 0 0.4em 0.5em 0.4em;box-sizing: border-box;padding-bottom: 0.4em;background-color: white;}#sk-container-id-2 div.sk-label label {font-family: monospace;font-weight: bold;display: inline-block;line-height: 1.2em;}#sk-container-id-2 div.sk-label-container {text-align: center;}#sk-container-id-2 div.sk-container {/* jupyter's `normalize.less` sets `[hidden] { display: none; }` but bootstrap.min.css set `[hidden] { display: none !important; }` so we also need the `!important` here to be able to override the default hidden behavior on the sphinx rendered scikit-learn.org. See: https://github.com/scikit-learn/scikit-learn/issues/21755 */display: inline-block !important;position: relative;}#sk-container-id-2 div.sk-text-repr-fallback {display: none;}</style><div id=\"sk-container-id-2\" class=\"sk-top-container\"><div class=\"sk-text-repr-fallback\"><pre>Pipeline(steps=[(&#x27;preprocessor&#x27;,\n",
              "                 ColumnTransformer(remainder=&#x27;passthrough&#x27;,\n",
              "                                   transformers=[(&#x27;categorical_processor&#x27;,\n",
              "                                                  OrdinalEncoder(),\n",
              "                                                  [&#x27;Sexo&#x27;])])),\n",
              "                (&#x27;classifier&#x27;, HistGradientBoostingClassifier(random_state=0))])</pre><b>In a Jupyter environment, please rerun this cell to show the HTML representation or trust the notebook. <br />On GitHub, the HTML representation is unable to render, please try loading this page with nbviewer.org.</b></div><div class=\"sk-container\" hidden><div class=\"sk-item sk-dashed-wrapped\"><div class=\"sk-label-container\"><div class=\"sk-label sk-toggleable\"><input class=\"sk-toggleable__control sk-hidden--visually\" id=\"sk-estimator-id-8\" type=\"checkbox\" ><label for=\"sk-estimator-id-8\" class=\"sk-toggleable__label sk-toggleable__label-arrow\">Pipeline</label><div class=\"sk-toggleable__content\"><pre>Pipeline(steps=[(&#x27;preprocessor&#x27;,\n",
              "                 ColumnTransformer(remainder=&#x27;passthrough&#x27;,\n",
              "                                   transformers=[(&#x27;categorical_processor&#x27;,\n",
              "                                                  OrdinalEncoder(),\n",
              "                                                  [&#x27;Sexo&#x27;])])),\n",
              "                (&#x27;classifier&#x27;, HistGradientBoostingClassifier(random_state=0))])</pre></div></div></div><div class=\"sk-serial\"><div class=\"sk-item sk-dashed-wrapped\"><div class=\"sk-label-container\"><div class=\"sk-label sk-toggleable\"><input class=\"sk-toggleable__control sk-hidden--visually\" id=\"sk-estimator-id-9\" type=\"checkbox\" ><label for=\"sk-estimator-id-9\" class=\"sk-toggleable__label sk-toggleable__label-arrow\">preprocessor: ColumnTransformer</label><div class=\"sk-toggleable__content\"><pre>ColumnTransformer(remainder=&#x27;passthrough&#x27;,\n",
              "                  transformers=[(&#x27;categorical_processor&#x27;, OrdinalEncoder(),\n",
              "                                 [&#x27;Sexo&#x27;])])</pre></div></div></div><div class=\"sk-parallel\"><div class=\"sk-parallel-item\"><div class=\"sk-item\"><div class=\"sk-label-container\"><div class=\"sk-label sk-toggleable\"><input class=\"sk-toggleable__control sk-hidden--visually\" id=\"sk-estimator-id-10\" type=\"checkbox\" ><label for=\"sk-estimator-id-10\" class=\"sk-toggleable__label sk-toggleable__label-arrow\">categorical_processor</label><div class=\"sk-toggleable__content\"><pre>[&#x27;Sexo&#x27;]</pre></div></div></div><div class=\"sk-serial\"><div class=\"sk-item\"><div class=\"sk-estimator sk-toggleable\"><input class=\"sk-toggleable__control sk-hidden--visually\" id=\"sk-estimator-id-11\" type=\"checkbox\" ><label for=\"sk-estimator-id-11\" class=\"sk-toggleable__label sk-toggleable__label-arrow\">OrdinalEncoder</label><div class=\"sk-toggleable__content\"><pre>OrdinalEncoder()</pre></div></div></div></div></div></div><div class=\"sk-parallel-item\"><div class=\"sk-item\"><div class=\"sk-label-container\"><div class=\"sk-label sk-toggleable\"><input class=\"sk-toggleable__control sk-hidden--visually\" id=\"sk-estimator-id-12\" type=\"checkbox\" ><label for=\"sk-estimator-id-12\" class=\"sk-toggleable__label sk-toggleable__label-arrow\">remainder</label><div class=\"sk-toggleable__content\"><pre></pre></div></div></div><div class=\"sk-serial\"><div class=\"sk-item\"><div class=\"sk-estimator sk-toggleable\"><input class=\"sk-toggleable__control sk-hidden--visually\" id=\"sk-estimator-id-13\" type=\"checkbox\" ><label for=\"sk-estimator-id-13\" class=\"sk-toggleable__label sk-toggleable__label-arrow\">passthrough</label><div class=\"sk-toggleable__content\"><pre>passthrough</pre></div></div></div></div></div></div></div></div><div class=\"sk-item\"><div class=\"sk-estimator sk-toggleable\"><input class=\"sk-toggleable__control sk-hidden--visually\" id=\"sk-estimator-id-14\" type=\"checkbox\" ><label for=\"sk-estimator-id-14\" class=\"sk-toggleable__label sk-toggleable__label-arrow\">HistGradientBoostingClassifier</label><div class=\"sk-toggleable__content\"><pre>HistGradientBoostingClassifier(random_state=0)</pre></div></div></div></div></div></div></div>"
            ]
          },
          "metadata": {},
          "execution_count": 20
        }
      ],
      "source": [
        "from sklearn.ensemble import HistGradientBoostingClassifier\n",
        "\n",
        "preprocessor = ColumnTransformer(transformers=[\n",
        "        (\"categorical_processor\", OrdinalEncoder(), categorical_columns),  # apply OrdinalEncoder to categorical columns\n",
        "    ],\n",
        "    remainder=\"passthrough\",  # this means all other columns not listed above are kept as-is\n",
        ")\n",
        "\n",
        "hgbdt_model = Pipeline(steps=[\n",
        "    (\"preprocessor\", preprocessor),\n",
        "    (\"classifier\", HistGradientBoostingClassifier(random_state=0)),\n",
        "])\n",
        "hgbdt_model"
      ]
    },
    {
      "cell_type": "markdown",
      "id": "a682ffe9",
      "metadata": {
        "id": "a682ffe9"
      },
      "source": [
        "# Evaluating these models with cross-validation\n",
        "\n",
        "Now that we define these models, we have to evaluate them to find the best model for our use case.\n",
        "1. Choose a metric.\n",
        "2. Choose a validation strategy\n",
        "3. Run cross-validation for each model, compare them"
      ]
    },
    {
      "cell_type": "markdown",
      "source": [
        "### Which metric to use?\n",
        "\n",
        "First the target is highly imbalanced."
      ],
      "metadata": {
        "id": "vqzrZMoaeaW4"
      },
      "id": "vqzrZMoaeaW4"
    },
    {
      "cell_type": "code",
      "execution_count": 21,
      "id": "8ccb43e8",
      "metadata": {
        "colab": {
          "base_uri": "https://localhost:8080/",
          "height": 0
        },
        "id": "8ccb43e8",
        "outputId": "39d05d35-df9c-4d51-a3f9-e2568790abef"
      },
      "outputs": [
        {
          "output_type": "execute_result",
          "data": {
            "text/plain": [
              "No     0.744799\n",
              "Yes    0.255201\n",
              "Name: Refusal_Flag, dtype: float64"
            ]
          },
          "metadata": {},
          "execution_count": 21
        }
      ],
      "source": [
        "y.value_counts(normalize=True)"
      ]
    },
    {
      "cell_type": "markdown",
      "id": "6572cfa8",
      "metadata": {
        "id": "6572cfa8"
      },
      "source": [
        "Indeed, the proportion of `\"No\"` and `\"Yes\"` is not 50-50. We therefore need to select a proper statistical metric. Here, we can use the ROC-AUC.\n",
        "\n",
        "We also need to choose a cross-validation strategy. A stratified k-fold cross-validation is a good choice in this case to be sure that the ratio of the classes is preserved in each of the splits. In addition, we will shuffle the data. I will come back on this point.\n",
        "\n",
        "Let's evaluate the dummy classifier."
      ]
    },
    {
      "cell_type": "code",
      "execution_count": 22,
      "id": "407b21c1",
      "metadata": {
        "colab": {
          "base_uri": "https://localhost:8080/",
          "height": 0
        },
        "id": "407b21c1",
        "outputId": "f5cc4705-4482-46f9-8598-4b192125bb35"
      },
      "outputs": [
        {
          "output_type": "stream",
          "name": "stdout",
          "text": [
            "Dummy classifier results in terms of ROC-AUC:\n",
            "\n",
            "    Training: 0.500 +/- 0.000\n",
            "    Testing: 0.500 +/- 0.000\n",
            "    \n"
          ]
        }
      ],
      "source": [
        "from sklearn.model_selection import cross_validate, StratifiedKFold\n",
        "\n",
        "cv = StratifiedKFold(n_splits=30, shuffle=True)\n",
        "cv_results = cross_validate(\n",
        "    dummy_model, X, y,\n",
        "    return_train_score=True,\n",
        "    scoring=[\"roc_auc\"],\n",
        "    n_jobs=-1,\n",
        "    cv=cv,\n",
        ")\n",
        "cv_results = pd.DataFrame(cv_results)\n",
        "cv_results = cv_results[[\"train_roc_auc\", \"test_roc_auc\"]]\n",
        "print(\n",
        "    f\"\"\"Dummy classifier results in terms of ROC-AUC:\n",
        "\n",
        "    Training: {cv_results['train_roc_auc'].mean():.3f} +/- {cv_results['train_roc_auc'].std():.3f}\n",
        "    Testing: {cv_results['test_roc_auc'].mean():.3f} +/- {cv_results['test_roc_auc'].std():.3f}\n",
        "    \"\"\"\n",
        ")"
      ]
    },
    {
      "cell_type": "markdown",
      "id": "c8a6079d",
      "metadata": {
        "id": "c8a6079d"
      },
      "source": [
        "It is not a surprised that this model outputs an average AUC of 0.5 on both training and testing. Let's check if a linear model provides better statistics."
      ]
    },
    {
      "cell_type": "code",
      "execution_count": 23,
      "id": "8883fadc",
      "metadata": {
        "scrolled": false,
        "colab": {
          "base_uri": "https://localhost:8080/",
          "height": 0
        },
        "id": "8883fadc",
        "outputId": "6cae85b4-0713-44c3-8551-ab1f265a87f9"
      },
      "outputs": [
        {
          "output_type": "stream",
          "name": "stdout",
          "text": [
            "Linear model results in terms of ROC-AUC:\n",
            "\n",
            "    Training: 0.630 +/- 0.001\n",
            "    Testing: 0.630 +/- 0.016\n",
            "    \n"
          ]
        }
      ],
      "source": [
        "cv_results = cross_validate(\n",
        "    linear_model, X, y,\n",
        "    return_train_score=True,\n",
        "    scoring=[\"roc_auc\"],\n",
        "    n_jobs=-1,\n",
        "    cv=cv,\n",
        ")\n",
        "cv_results = pd.DataFrame(cv_results)\n",
        "cv_results = cv_results[[\"train_roc_auc\", \"test_roc_auc\"]]\n",
        "print(\n",
        "    f\"\"\"Linear model results in terms of ROC-AUC:\n",
        "\n",
        "    Training: {cv_results['train_roc_auc'].mean():.3f} +/- {cv_results['train_roc_auc'].std():.3f}\n",
        "    Testing: {cv_results['test_roc_auc'].mean():.3f} +/- {cv_results['test_roc_auc'].std():.3f}\n",
        "    \"\"\"\n",
        ")"
      ]
    },
    {
      "cell_type": "markdown",
      "id": "15d328fd",
      "metadata": {
        "id": "15d328fd"
      },
      "source": [
        "It seems that this is a bit better. We can also see that the model does not overfit since the results are similar on the training and testing set. Let's check the last model type of model:"
      ]
    },
    {
      "cell_type": "code",
      "execution_count": 24,
      "id": "ce4fcd70",
      "metadata": {
        "colab": {
          "base_uri": "https://localhost:8080/",
          "height": 0
        },
        "id": "ce4fcd70",
        "outputId": "3f7fb047-1975-4e71-c0e6-1125b2ceaa64"
      },
      "outputs": [
        {
          "output_type": "stream",
          "name": "stdout",
          "text": [
            "HGBDT model results in terms of ROC-AUC:\n",
            "\n",
            "    Training: 0.762 +/- 0.004\n",
            "    Testing: 0.735 +/- 0.011\n",
            "    \n"
          ]
        }
      ],
      "source": [
        "cv_results = cross_validate(\n",
        "    hgbdt_model, X, y,\n",
        "    return_train_score=True,\n",
        "    scoring=[\"roc_auc\"],\n",
        "    n_jobs=-1,\n",
        "    cv=cv,\n",
        ")\n",
        "cv_results = pd.DataFrame(cv_results)\n",
        "print(\n",
        "    f\"\"\"HGBDT model results in terms of ROC-AUC:\n",
        "\n",
        "    Training: {cv_results['train_roc_auc'].mean():.3f} +/- {cv_results['train_roc_auc'].std():.3f}\n",
        "    Testing: {cv_results['test_roc_auc'].mean():.3f} +/- {cv_results['test_roc_auc'].std():.3f}\n",
        "    \"\"\"\n",
        ")"
      ]
    },
    {
      "cell_type": "markdown",
      "id": "e107441d",
      "metadata": {
        "id": "e107441d"
      },
      "source": [
        "We observe that this model is better than the previous one. we can see that there is a small overfitting since the model is performing worse on the testing set than on the training set."
      ]
    },
    {
      "cell_type": "markdown",
      "id": "9384e975",
      "metadata": {
        "id": "9384e975"
      },
      "source": [
        "### Draw ROC curve"
      ]
    },
    {
      "cell_type": "markdown",
      "id": "06815f8c",
      "metadata": {
        "id": "06815f8c"
      },
      "source": [
        "In the thesis, the structure was broken to report the results because a single train-test split was used with shuffling. We can reproduce the ROC curve using such approach:"
      ]
    },
    {
      "cell_type": "code",
      "execution_count": 25,
      "id": "bc33050d",
      "metadata": {
        "id": "bc33050d"
      },
      "outputs": [],
      "source": [
        "from sklearn.model_selection import train_test_split\n",
        "\n",
        "X_train, X_test, y_train, y_test = train_test_split(\n",
        "    X, y, stratify=y, test_size=0.2, random_state=0\n",
        ")"
      ]
    },
    {
      "cell_type": "code",
      "execution_count": 26,
      "id": "7670a9e2",
      "metadata": {
        "id": "7670a9e2"
      },
      "outputs": [],
      "source": [
        "dummy_model.fit(X_train, y_train)\n",
        "linear_model.fit(X_train, y_train)\n",
        "_ = hgbdt_model.fit(X_train, y_train)"
      ]
    },
    {
      "cell_type": "markdown",
      "id": "63de60d2",
      "metadata": {
        "id": "63de60d2"
      },
      "source": [
        "Now we can use the plotting tool from scikit-learn to plot the ROC curve"
      ]
    },
    {
      "cell_type": "code",
      "execution_count": 27,
      "id": "a2ba3263",
      "metadata": {
        "colab": {
          "base_uri": "https://localhost:8080/",
          "height": 472
        },
        "id": "a2ba3263",
        "outputId": "0e33183c-05f0-456f-d09e-573ba62c41e3"
      },
      "outputs": [
        {
          "output_type": "display_data",
          "data": {
            "text/plain": [
              "<Figure size 640x480 with 1 Axes>"
            ],
            "image/png": "[encoded data removed]"
          },
          "metadata": {}
        }
      ],
      "source": [
        "from sklearn.metrics import RocCurveDisplay\n",
        "\n",
        "disp = RocCurveDisplay.from_estimator(\n",
        "    dummy_model, X_test, y_test, name=\"Dummy classifier\", linestyle=\"--\"\n",
        ")\n",
        "RocCurveDisplay.from_estimator(\n",
        "    linear_model, X_test, y_test, name=\"Logistic regression\", ax=disp.ax_\n",
        ")\n",
        "RocCurveDisplay.from_estimator(\n",
        "    hgbdt_model, X_test, y_test, name=\"HGBDT classifier\", ax=disp.ax_\n",
        ")\n",
        "_ = disp.ax_.set_title(\n",
        "    \"Comparison of the ROC curve of the different models\"\n",
        ")"
      ]
    },
    {
      "cell_type": "markdown",
      "id": "08026abf",
      "metadata": {
        "id": "08026abf"
      },
      "source": [
        "As ROC AUC score is the area under the ROC curve, the tree-based model is the highest curve in the chart."
      ]
    },
    {
      "cell_type": "markdown",
      "id": "c85516b0",
      "metadata": {
        "id": "c85516b0"
      },
      "source": [
        "# Analyze models with Permutation importance\n",
        "\n",
        "Permutation importance is a method to evaluate the impact of each variable on the performance of a model.\n",
        "\n",
        "In other words, the importance score of each variable is how much the model's performance diminish if that variable get wrong values."
      ]
    },
    {
      "cell_type": "markdown",
      "id": "62775820",
      "metadata": {
        "id": "62775820"
      },
      "source": [
        "Here, we show how to plot the feature importances by using the permutation approach."
      ]
    },
    {
      "cell_type": "code",
      "execution_count": 29,
      "id": "7ce77e7b",
      "metadata": {
        "id": "7ce77e7b"
      },
      "outputs": [],
      "source": [
        "from sklearn.inspection import permutation_importance\n",
        "\n",
        "importances = permutation_importance(\n",
        "    hgbdt_model, X_test, y_test, scoring=\"roc_auc\"\n",
        ")\n",
        "importances = pd.DataFrame(\n",
        "    importances.importances.T,\n",
        "    columns=hgbdt_model[:-1].get_feature_names_out(),\n",
        ")"
      ]
    },
    {
      "cell_type": "code",
      "execution_count": 30,
      "id": "4c9fb457",
      "metadata": {
        "colab": {
          "base_uri": "https://localhost:8080/",
          "height": 449
        },
        "id": "4c9fb457",
        "outputId": "78fe960c-363c-4a7d-c8b2-be10d6e16177"
      },
      "outputs": [
        {
          "output_type": "display_data",
          "data": {
            "text/plain": [
              "<Figure size 640x480 with 1 Axes>"
            ],
            "image/png": "[encoded data removed]"
          },
          "metadata": {}
        }
      ],
      "source": [
        "ax = importances.plot.box(vert=False, whis=10)\n",
        "_ = ax.set_xlabel(\"Decrease in terms of ROC AUC\")"
      ]
    },
    {
      "cell_type": "markdown",
      "source": [
        "We can see that \"Sexo\" and \"Age policy at claim\" contribute the most to the model's performance"
      ],
      "metadata": {
        "id": "-GujRNMghuV4"
      },
      "id": "-GujRNMghuV4"
    },
    {
      "cell_type": "markdown",
      "id": "eab332b3",
      "metadata": {
        "id": "eab332b3"
      },
      "source": [
        "### Conclusion\n",
        "\n",
        "The thesis is showing the \"Economic loss\". We cannot construct this loss because we are missing some information. However, it comes back to assign a cost to a prediction depending if we do a mistake or not.\n",
        "\n",
        "In the thesis, the cost depend on some external values that we don't have access. If we would have these access, we could there fore compute the cost, for all the possible threshold of used for the ROC curve and have a business oriented metric which is more maningful than the ROC curve."
      ]
    }
  ],
  "metadata": {
    "kernelspec": {
      "display_name": "Python 3 (ipykernel)",
      "language": "python",
      "name": "python3"
    },
    "language_info": {
      "codemirror_mode": {
        "name": "ipython",
        "version": 3
      },
      "file_extension": ".py",
      "mimetype": "text/x-python",
      "name": "python",
      "nbconvert_exporter": "python",
      "pygments_lexer": "ipython3",
      "version": "3.10.8"
    },
    "colab": {
      "provenance": []
    }
  },
  "nbformat": 4,
  "nbformat_minor": 5
}