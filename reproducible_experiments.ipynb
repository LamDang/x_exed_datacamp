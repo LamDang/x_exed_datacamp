{
 "cells": [
  {
   "cell_type": "markdown",
   "id": "f6701113",
   "metadata": {},
   "source": [
    "# Notebook to \"try\" reproducing certification\n",
    "\n",
    "This notebook intends to provide pieces to illustrate how to reproduce results from the \"Mémoire de Certfication\". However there are some limitations.\n",
    "\n",
    "Some of the data used in the thesis are not available in the dataset and does not allow to have the exact dataset used during the certification. Therefore the results will be different.\n",
    "\n",
    "Therefore, we will try to have a similar analysis but we will not be able to end-up with similar results."
   ]
  },
  {
   "cell_type": "markdown",
   "id": "a5be99d3",
   "metadata": {},
   "source": [
    "### Data loading"
   ]
  },
  {
   "cell_type": "markdown",
   "id": "375d5a04",
   "metadata": {},
   "source": [
    "We will be reusing the data that we clean during the morning of the datacamp.\n",
    "\n",
    "Note that from the original dataset, we created three new columns:\n",
    "\n",
    "- the age of the policy at the time of claim\n",
    "- the delay of the claim\n",
    "- the age of the client at the time of claim\n",
    "\n",
    "Those columns were stored as `timedelta` (cf. [pandas documentation](https://pandas.pydata.org/docs/reference/api/pandas.Timedelta.html)) expressed in days. We reuse this format and express these quantity in days to have a numerical representation that does not require complicated processing later on."
   ]
  },
  {
   "cell_type": "code",
   "execution_count": 1,
   "id": "659dd975",
   "metadata": {},
   "outputs": [
    {
     "data": {
      "text/html": [
       "<div>\n",
       "<style scoped>\n",
       "    .dataframe tbody tr th:only-of-type {\n",
       "        vertical-align: middle;\n",
       "    }\n",
       "\n",
       "    .dataframe tbody tr th {\n",
       "        vertical-align: top;\n",
       "    }\n",
       "\n",
       "    .dataframe thead th {\n",
       "        text-align: right;\n",
       "    }\n",
       "</style>\n",
       "<table border=\"1\" class=\"dataframe\">\n",
       "  <thead>\n",
       "    <tr style=\"text-align: right;\">\n",
       "      <th></th>\n",
       "      <th>Risk code</th>\n",
       "      <th>Claim Incident date</th>\n",
       "      <th>FE_Declaration_date</th>\n",
       "      <th>Initial coverage date</th>\n",
       "      <th>First claim decision date</th>\n",
       "      <th>Last claim decisión date</th>\n",
       "      <th>Insured amount</th>\n",
       "      <th>Initial_Instalment_Amount</th>\n",
       "      <th>Policy Holder date of birth</th>\n",
       "      <th>Age at signature</th>\n",
       "      <th>...</th>\n",
       "      <th>Trad_Refusal_reason</th>\n",
       "      <th>Refusal_Category</th>\n",
       "      <th>Claim_Status_Level_0</th>\n",
       "      <th>Refusal_Flag</th>\n",
       "      <th>Local Partner name categories</th>\n",
       "      <th>Insured NIF categories</th>\n",
       "      <th>Claim Number categories</th>\n",
       "      <th>Age policy at claim</th>\n",
       "      <th>Delay declaration</th>\n",
       "      <th>Age client at claim</th>\n",
       "    </tr>\n",
       "  </thead>\n",
       "  <tbody>\n",
       "    <tr>\n",
       "      <th>7</th>\n",
       "      <td>13</td>\n",
       "      <td>2010-04-09</td>\n",
       "      <td>2010-07-06</td>\n",
       "      <td>2010-02-19</td>\n",
       "      <td>2010-07-14</td>\n",
       "      <td>2011-01-14</td>\n",
       "      <td>790.02</td>\n",
       "      <td>131.67</td>\n",
       "      <td>1946-02-03</td>\n",
       "      <td>64</td>\n",
       "      <td>...</td>\n",
       "      <td>Waiting Period</td>\n",
       "      <td>Administrative</td>\n",
       "      <td>Claim refused</td>\n",
       "      <td>Yes</td>\n",
       "      <td>4</td>\n",
       "      <td>3</td>\n",
       "      <td>8935</td>\n",
       "      <td>49</td>\n",
       "      <td>88</td>\n",
       "      <td>23441</td>\n",
       "    </tr>\n",
       "    <tr>\n",
       "      <th>9</th>\n",
       "      <td>1</td>\n",
       "      <td>2010-01-22</td>\n",
       "      <td>2010-02-22</td>\n",
       "      <td>2010-01-11</td>\n",
       "      <td>2010-03-02</td>\n",
       "      <td>2011-03-24</td>\n",
       "      <td>6000.00</td>\n",
       "      <td>111.22</td>\n",
       "      <td>1946-08-18</td>\n",
       "      <td>63</td>\n",
       "      <td>...</td>\n",
       "      <td>Waiting Period</td>\n",
       "      <td>Administrative</td>\n",
       "      <td>Claim accepted after refusal</td>\n",
       "      <td>Yes</td>\n",
       "      <td>35</td>\n",
       "      <td>4</td>\n",
       "      <td>59206</td>\n",
       "      <td>11</td>\n",
       "      <td>31</td>\n",
       "      <td>23168</td>\n",
       "    </tr>\n",
       "    <tr>\n",
       "      <th>11</th>\n",
       "      <td>3</td>\n",
       "      <td>2009-11-16</td>\n",
       "      <td>2011-06-27</td>\n",
       "      <td>2009-07-21</td>\n",
       "      <td>2011-07-07</td>\n",
       "      <td>2012-01-11</td>\n",
       "      <td>3337.08</td>\n",
       "      <td>73.60</td>\n",
       "      <td>1946-09-28</td>\n",
       "      <td>62</td>\n",
       "      <td>...</td>\n",
       "      <td>Waiting Period</td>\n",
       "      <td>Administrative</td>\n",
       "      <td>Claim refused</td>\n",
       "      <td>Yes</td>\n",
       "      <td>35</td>\n",
       "      <td>6</td>\n",
       "      <td>65416</td>\n",
       "      <td>118</td>\n",
       "      <td>588</td>\n",
       "      <td>23060</td>\n",
       "    </tr>\n",
       "    <tr>\n",
       "      <th>12</th>\n",
       "      <td>13</td>\n",
       "      <td>2010-04-09</td>\n",
       "      <td>2010-05-18</td>\n",
       "      <td>2009-08-11</td>\n",
       "      <td>2010-05-20</td>\n",
       "      <td>2010-11-29</td>\n",
       "      <td>610.74</td>\n",
       "      <td>101.79</td>\n",
       "      <td>1947-02-21</td>\n",
       "      <td>62</td>\n",
       "      <td>...</td>\n",
       "      <td>Waiting Period</td>\n",
       "      <td>Administrative</td>\n",
       "      <td>Claim refused</td>\n",
       "      <td>Yes</td>\n",
       "      <td>3</td>\n",
       "      <td>7</td>\n",
       "      <td>8072</td>\n",
       "      <td>241</td>\n",
       "      <td>39</td>\n",
       "      <td>23058</td>\n",
       "    </tr>\n",
       "    <tr>\n",
       "      <th>14</th>\n",
       "      <td>13</td>\n",
       "      <td>2009-07-31</td>\n",
       "      <td>2010-07-27</td>\n",
       "      <td>2009-07-30</td>\n",
       "      <td>2010-08-03</td>\n",
       "      <td>2011-02-04</td>\n",
       "      <td>599.70</td>\n",
       "      <td>99.95</td>\n",
       "      <td>1947-09-11</td>\n",
       "      <td>61</td>\n",
       "      <td>...</td>\n",
       "      <td>Waiting Period</td>\n",
       "      <td>Administrative</td>\n",
       "      <td>Claim refused</td>\n",
       "      <td>Yes</td>\n",
       "      <td>15</td>\n",
       "      <td>9</td>\n",
       "      <td>6499</td>\n",
       "      <td>1</td>\n",
       "      <td>361</td>\n",
       "      <td>22604</td>\n",
       "    </tr>\n",
       "    <tr>\n",
       "      <th>...</th>\n",
       "      <td>...</td>\n",
       "      <td>...</td>\n",
       "      <td>...</td>\n",
       "      <td>...</td>\n",
       "      <td>...</td>\n",
       "      <td>...</td>\n",
       "      <td>...</td>\n",
       "      <td>...</td>\n",
       "      <td>...</td>\n",
       "      <td>...</td>\n",
       "      <td>...</td>\n",
       "      <td>...</td>\n",
       "      <td>...</td>\n",
       "      <td>...</td>\n",
       "      <td>...</td>\n",
       "      <td>...</td>\n",
       "      <td>...</td>\n",
       "      <td>...</td>\n",
       "      <td>...</td>\n",
       "      <td>...</td>\n",
       "      <td>...</td>\n",
       "    </tr>\n",
       "    <tr>\n",
       "      <th>126804</th>\n",
       "      <td>13</td>\n",
       "      <td>2015-11-18</td>\n",
       "      <td>2015-12-31</td>\n",
       "      <td>2014-11-17</td>\n",
       "      <td>2016-01-04</td>\n",
       "      <td>2016-01-04</td>\n",
       "      <td>963.36</td>\n",
       "      <td>160.56</td>\n",
       "      <td>1995-07-18</td>\n",
       "      <td>19</td>\n",
       "      <td>...</td>\n",
       "      <td>NaN</td>\n",
       "      <td>NaN</td>\n",
       "      <td>Being processed</td>\n",
       "      <td>No</td>\n",
       "      <td>4</td>\n",
       "      <td>74030</td>\n",
       "      <td>50532</td>\n",
       "      <td>366</td>\n",
       "      <td>43</td>\n",
       "      <td>7428</td>\n",
       "    </tr>\n",
       "    <tr>\n",
       "      <th>126805</th>\n",
       "      <td>13</td>\n",
       "      <td>2015-12-15</td>\n",
       "      <td>2016-01-29</td>\n",
       "      <td>2015-11-30</td>\n",
       "      <td>2016-02-01</td>\n",
       "      <td>2016-02-01</td>\n",
       "      <td>882.18</td>\n",
       "      <td>147.03</td>\n",
       "      <td>1996-01-02</td>\n",
       "      <td>19</td>\n",
       "      <td>...</td>\n",
       "      <td>NaN</td>\n",
       "      <td>NaN</td>\n",
       "      <td>Being processed</td>\n",
       "      <td>No</td>\n",
       "      <td>4</td>\n",
       "      <td>74031</td>\n",
       "      <td>51111</td>\n",
       "      <td>15</td>\n",
       "      <td>45</td>\n",
       "      <td>7287</td>\n",
       "    </tr>\n",
       "    <tr>\n",
       "      <th>126806</th>\n",
       "      <td>5</td>\n",
       "      <td>2017-01-23</td>\n",
       "      <td>2017-02-02</td>\n",
       "      <td>2016-09-23</td>\n",
       "      <td>2017-02-03</td>\n",
       "      <td>2017-02-09</td>\n",
       "      <td>996.90</td>\n",
       "      <td>166.15</td>\n",
       "      <td>1996-10-09</td>\n",
       "      <td>19</td>\n",
       "      <td>...</td>\n",
       "      <td>NaN</td>\n",
       "      <td>NaN</td>\n",
       "      <td>Being processed</td>\n",
       "      <td>No</td>\n",
       "      <td>23</td>\n",
       "      <td>74032</td>\n",
       "      <td>54535</td>\n",
       "      <td>122</td>\n",
       "      <td>10</td>\n",
       "      <td>7411</td>\n",
       "    </tr>\n",
       "    <tr>\n",
       "      <th>126807</th>\n",
       "      <td>13</td>\n",
       "      <td>2017-02-02</td>\n",
       "      <td>2017-03-02</td>\n",
       "      <td>2016-11-04</td>\n",
       "      <td>2017-03-06</td>\n",
       "      <td>2017-03-06</td>\n",
       "      <td>550.98</td>\n",
       "      <td>91.83</td>\n",
       "      <td>1997-01-23</td>\n",
       "      <td>19</td>\n",
       "      <td>...</td>\n",
       "      <td>NaN</td>\n",
       "      <td>NaN</td>\n",
       "      <td>Being processed</td>\n",
       "      <td>No</td>\n",
       "      <td>4</td>\n",
       "      <td>74033</td>\n",
       "      <td>54667</td>\n",
       "      <td>90</td>\n",
       "      <td>28</td>\n",
       "      <td>7315</td>\n",
       "    </tr>\n",
       "    <tr>\n",
       "      <th>126808</th>\n",
       "      <td>13</td>\n",
       "      <td>2016-11-25</td>\n",
       "      <td>2016-12-29</td>\n",
       "      <td>2016-07-07</td>\n",
       "      <td>2017-01-02</td>\n",
       "      <td>2017-01-02</td>\n",
       "      <td>297.00</td>\n",
       "      <td>49.50</td>\n",
       "      <td>1997-06-08</td>\n",
       "      <td>19</td>\n",
       "      <td>...</td>\n",
       "      <td>NaN</td>\n",
       "      <td>NaN</td>\n",
       "      <td>Being processed</td>\n",
       "      <td>No</td>\n",
       "      <td>4</td>\n",
       "      <td>74034</td>\n",
       "      <td>53978</td>\n",
       "      <td>141</td>\n",
       "      <td>34</td>\n",
       "      <td>7110</td>\n",
       "    </tr>\n",
       "  </tbody>\n",
       "</table>\n",
       "<p>56371 rows × 22 columns</p>\n",
       "</div>"
      ],
      "text/plain": [
       "        Risk code Claim Incident date FE_Declaration_date  \\\n",
       "7              13          2010-04-09          2010-07-06   \n",
       "9               1          2010-01-22          2010-02-22   \n",
       "11              3          2009-11-16          2011-06-27   \n",
       "12             13          2010-04-09          2010-05-18   \n",
       "14             13          2009-07-31          2010-07-27   \n",
       "...           ...                 ...                 ...   \n",
       "126804         13          2015-11-18          2015-12-31   \n",
       "126805         13          2015-12-15          2016-01-29   \n",
       "126806          5          2017-01-23          2017-02-02   \n",
       "126807         13          2017-02-02          2017-03-02   \n",
       "126808         13          2016-11-25          2016-12-29   \n",
       "\n",
       "       Initial coverage date First claim decision date  \\\n",
       "7                 2010-02-19                2010-07-14   \n",
       "9                 2010-01-11                2010-03-02   \n",
       "11                2009-07-21                2011-07-07   \n",
       "12                2009-08-11                2010-05-20   \n",
       "14                2009-07-30                2010-08-03   \n",
       "...                      ...                       ...   \n",
       "126804            2014-11-17                2016-01-04   \n",
       "126805            2015-11-30                2016-02-01   \n",
       "126806            2016-09-23                2017-02-03   \n",
       "126807            2016-11-04                2017-03-06   \n",
       "126808            2016-07-07                2017-01-02   \n",
       "\n",
       "       Last claim decisión date  Insured amount  Initial_Instalment_Amount  \\\n",
       "7                    2011-01-14          790.02                     131.67   \n",
       "9                    2011-03-24         6000.00                     111.22   \n",
       "11                   2012-01-11         3337.08                      73.60   \n",
       "12                   2010-11-29          610.74                     101.79   \n",
       "14                   2011-02-04          599.70                      99.95   \n",
       "...                         ...             ...                        ...   \n",
       "126804               2016-01-04          963.36                     160.56   \n",
       "126805               2016-02-01          882.18                     147.03   \n",
       "126806               2017-02-09          996.90                     166.15   \n",
       "126807               2017-03-06          550.98                      91.83   \n",
       "126808               2017-01-02          297.00                      49.50   \n",
       "\n",
       "       Policy Holder date of birth  Age at signature  ... Trad_Refusal_reason  \\\n",
       "7                       1946-02-03                64  ...      Waiting Period   \n",
       "9                       1946-08-18                63  ...      Waiting Period   \n",
       "11                      1946-09-28                62  ...      Waiting Period   \n",
       "12                      1947-02-21                62  ...      Waiting Period   \n",
       "14                      1947-09-11                61  ...      Waiting Period   \n",
       "...                            ...               ...  ...                 ...   \n",
       "126804                  1995-07-18                19  ...                 NaN   \n",
       "126805                  1996-01-02                19  ...                 NaN   \n",
       "126806                  1996-10-09                19  ...                 NaN   \n",
       "126807                  1997-01-23                19  ...                 NaN   \n",
       "126808                  1997-06-08                19  ...                 NaN   \n",
       "\n",
       "        Refusal_Category          Claim_Status_Level_0 Refusal_Flag  \\\n",
       "7         Administrative                 Claim refused          Yes   \n",
       "9         Administrative  Claim accepted after refusal          Yes   \n",
       "11        Administrative                 Claim refused          Yes   \n",
       "12        Administrative                 Claim refused          Yes   \n",
       "14        Administrative                 Claim refused          Yes   \n",
       "...                  ...                           ...          ...   \n",
       "126804               NaN               Being processed           No   \n",
       "126805               NaN               Being processed           No   \n",
       "126806               NaN               Being processed           No   \n",
       "126807               NaN               Being processed           No   \n",
       "126808               NaN               Being processed           No   \n",
       "\n",
       "       Local Partner name categories Insured NIF categories  \\\n",
       "7                                  4                      3   \n",
       "9                                 35                      4   \n",
       "11                                35                      6   \n",
       "12                                 3                      7   \n",
       "14                                15                      9   \n",
       "...                              ...                    ...   \n",
       "126804                             4                  74030   \n",
       "126805                             4                  74031   \n",
       "126806                            23                  74032   \n",
       "126807                             4                  74033   \n",
       "126808                             4                  74034   \n",
       "\n",
       "        Claim Number categories  Age policy at claim  Delay declaration  \\\n",
       "7                          8935                   49                 88   \n",
       "9                         59206                   11                 31   \n",
       "11                        65416                  118                588   \n",
       "12                         8072                  241                 39   \n",
       "14                         6499                    1                361   \n",
       "...                         ...                  ...                ...   \n",
       "126804                    50532                  366                 43   \n",
       "126805                    51111                   15                 45   \n",
       "126806                    54535                  122                 10   \n",
       "126807                    54667                   90                 28   \n",
       "126808                    53978                  141                 34   \n",
       "\n",
       "        Age client at claim  \n",
       "7                     23441  \n",
       "9                     23168  \n",
       "11                    23060  \n",
       "12                    23058  \n",
       "14                    22604  \n",
       "...                     ...  \n",
       "126804                 7428  \n",
       "126805                 7287  \n",
       "126806                 7411  \n",
       "126807                 7315  \n",
       "126808                 7110  \n",
       "\n",
       "[56371 rows x 22 columns]"
      ]
     },
     "execution_count": 1,
     "metadata": {},
     "output_type": "execute_result"
    }
   ],
   "source": [
    "import pandas as pd\n",
    "\n",
    "df = pd.read_csv(\n",
    "    \"cleaner_dataframe.csv\",\n",
    "    parse_dates=[\n",
    "        \"Claim Incident date\",\n",
    "        \"FE_Declaration_date\",\n",
    "        \"Initial coverage date\",\n",
    "        \"First claim decision date\",\n",
    "        \"Last claim decisión date\",\n",
    "        \"Policy Holder date of birth\",\n",
    "        \"Age policy at claim\",\n",
    "    ],\n",
    "    index_col=0,\n",
    ")\n",
    "df[\"Age policy at claim\"] = pd.to_timedelta(df[\"Age policy at claim\"]).dt.days\n",
    "df[\"Delay declaration\"] = pd.to_timedelta(df[\"Delay declaration\"]).dt.days\n",
    "df[\"Age client at claim\"] = pd.to_timedelta(df[\"Age client at claim\"]).dt.days\n",
    "df"
   ]
  },
  {
   "cell_type": "markdown",
   "id": "f79ee325",
   "metadata": {},
   "source": [
    "We can check that opening the CSV file when as we expected."
   ]
  },
  {
   "cell_type": "code",
   "execution_count": 2,
   "id": "6e839bc5",
   "metadata": {},
   "outputs": [
    {
     "name": "stdout",
     "output_type": "stream",
     "text": [
      "<class 'pandas.core.frame.DataFrame'>\n",
      "Int64Index: 56371 entries, 7 to 126808\n",
      "Data columns (total 22 columns):\n",
      " #   Column                         Non-Null Count  Dtype         \n",
      "---  ------                         --------------  -----         \n",
      " 0   Risk code                      56371 non-null  int64         \n",
      " 1   Claim Incident date            56371 non-null  datetime64[ns]\n",
      " 2   FE_Declaration_date            56371 non-null  datetime64[ns]\n",
      " 3   Initial coverage date          56371 non-null  datetime64[ns]\n",
      " 4   First claim decision date      56371 non-null  datetime64[ns]\n",
      " 5   Last claim decisión date       56353 non-null  datetime64[ns]\n",
      " 6   Insured amount                 56371 non-null  float64       \n",
      " 7   Initial_Instalment_Amount      56371 non-null  float64       \n",
      " 8   Policy Holder date of birth    56371 non-null  datetime64[ns]\n",
      " 9   Age at signature               56371 non-null  int64         \n",
      " 10  Sexo                           56371 non-null  object        \n",
      " 11  Refused decision reason code   15037 non-null  float64       \n",
      " 12  Trad_Refusal_reason            15037 non-null  object        \n",
      " 13  Refusal_Category               15037 non-null  object        \n",
      " 14  Claim_Status_Level_0           56371 non-null  object        \n",
      " 15  Refusal_Flag                   56371 non-null  object        \n",
      " 16  Local Partner name categories  56371 non-null  int64         \n",
      " 17  Insured NIF categories         56371 non-null  int64         \n",
      " 18  Claim Number categories        56371 non-null  int64         \n",
      " 19  Age policy at claim            56371 non-null  int64         \n",
      " 20  Delay declaration              56371 non-null  int64         \n",
      " 21  Age client at claim            56371 non-null  int64         \n",
      "dtypes: datetime64[ns](6), float64(3), int64(8), object(5)\n",
      "memory usage: 9.9+ MB\n"
     ]
    }
   ],
   "source": [
    "df.info()"
   ]
  },
  {
   "cell_type": "markdown",
   "id": "65714a34",
   "metadata": {},
   "source": [
    "As we can see, dates have been parsed properly and our three new columns are stored with integral data types.\n",
    "\n",
    "Now, we will split the dataset into a vector containing whether or not a claim was refused and a matrix containing the features. For this matter, we will store the name of the features and the name of the target.\n",
    "\n",
    "Note that we exclude the date from the features used because we created the last three columns using them."
   ]
  },
  {
   "cell_type": "code",
   "execution_count": 3,
   "id": "1d8a842d",
   "metadata": {},
   "outputs": [],
   "source": [
    "feature_names = [\n",
    "    \"Risk code\",\n",
    "    \"Insured amount\",\n",
    "    \"Initial_Instalment_Amount\",\n",
    "    \"Age at signature\",\n",
    "    \"Sexo\",\n",
    "    \"Age policy at claim\",\n",
    "    \"Delay declaration\",\n",
    "    \"Age client at claim\",\n",
    "]\n",
    "target_names = \"Refusal_Flag\"\n",
    "X, y = df[feature_names], df[target_names]"
   ]
  },
  {
   "cell_type": "code",
   "execution_count": 4,
   "id": "7af8ccf4",
   "metadata": {},
   "outputs": [
    {
     "name": "stdout",
     "output_type": "stream",
     "text": [
      "<class 'pandas.core.frame.DataFrame'>\n",
      "Int64Index: 56371 entries, 7 to 126808\n",
      "Data columns (total 8 columns):\n",
      " #   Column                     Non-Null Count  Dtype  \n",
      "---  ------                     --------------  -----  \n",
      " 0   Risk code                  56371 non-null  int64  \n",
      " 1   Insured amount             56371 non-null  float64\n",
      " 2   Initial_Instalment_Amount  56371 non-null  float64\n",
      " 3   Age at signature           56371 non-null  int64  \n",
      " 4   Sexo                       56371 non-null  object \n",
      " 5   Age policy at claim        56371 non-null  int64  \n",
      " 6   Delay declaration          56371 non-null  int64  \n",
      " 7   Age client at claim        56371 non-null  int64  \n",
      "dtypes: float64(2), int64(5), object(1)\n",
      "memory usage: 3.9+ MB\n"
     ]
    }
   ],
   "source": [
    "X.info()"
   ]
  },
  {
   "cell_type": "markdown",
   "id": "30e27523",
   "metadata": {},
   "source": [
    "Thus, we have 7 features to learn from."
   ]
  },
  {
   "cell_type": "markdown",
   "id": "14d8dd29",
   "metadata": {},
   "source": [
    "### Aside note regarding categorical features\n",
    "\n",
    "As we saw during the lecture, categorical features need particular attention: these features are necessarly numerical values while machine learning algorithm only deal with such numerical values. We therefore needs to encode those values to a numerical representation.\n",
    "\n",
    "However, this representation needs to be chose with care. Indeed, it will depend on the type of predictive model used later on.\n",
    "\n",
    "Here, we recall the two main type of categorical encoders used. We also recall with which model one wants to use them.\n",
    "\n",
    "First let's define in a Python list, which columns can be considered categorical:"
   ]
  },
  {
   "cell_type": "code",
   "execution_count": 5,
   "id": "76a33ebb",
   "metadata": {},
   "outputs": [],
   "source": [
    "categorical_columns = [\"Risk code\", \"Sexo\"]"
   ]
  },
  {
   "cell_type": "markdown",
   "id": "3a7bc92c",
   "metadata": {},
   "source": [
    "Indeed, we have two categorical features. While it is obvious that `\"Sexo\"` is such a categorical features, it is a less obvious for `\"Risk code\"` since it is represented already by some integral values. However, the name indicate us that this is a \"code\" and therefore composed of discrete values.\n",
    "\n",
    "We should therefore include this column in our processing."
   ]
  },
  {
   "cell_type": "code",
   "execution_count": 6,
   "id": "8c012f03",
   "metadata": {},
   "outputs": [],
   "source": [
    "X_categorical = X[categorical_columns]"
   ]
  },
  {
   "cell_type": "markdown",
   "id": "425a75dc",
   "metadata": {},
   "source": [
    "#### Ordinal encoding\n",
    "\n",
    "The simplest encoding that we can use is to replace each category by an integer. We will therefore have categories represented by values between `[0, n_categories - 1]`. We will illustrate below such encoding:"
   ]
  },
  {
   "cell_type": "code",
   "execution_count": 7,
   "id": "3b7cb1d9",
   "metadata": {},
   "outputs": [
    {
     "data": {
      "text/plain": [
       "array([[3., 1.],\n",
       "       [0., 1.],\n",
       "       [1., 1.],\n",
       "       ...,\n",
       "       [2., 1.],\n",
       "       [3., 1.],\n",
       "       [3., 1.]])"
      ]
     },
     "execution_count": 7,
     "metadata": {},
     "output_type": "execute_result"
    }
   ],
   "source": [
    "from sklearn.preprocessing import OrdinalEncoder\n",
    "\n",
    "encoder = OrdinalEncoder()\n",
    "X_train_encoded = encoder.fit_transform(X_categorical)\n",
    "X_train_encoded"
   ]
  },
  {
   "cell_type": "markdown",
   "id": "5573b50e",
   "metadata": {},
   "source": [
    "The output of scikit-learn will be a NumPy array. We can create a pandas `DataFrame` using the `get_feature_names_out` method to generate the column names. This method allows to track complex column transformation in scikit-learn `Pipeline` as well."
   ]
  },
  {
   "cell_type": "code",
   "execution_count": 8,
   "id": "a53b341d",
   "metadata": {},
   "outputs": [
    {
     "data": {
      "text/html": [
       "<div>\n",
       "<style scoped>\n",
       "    .dataframe tbody tr th:only-of-type {\n",
       "        vertical-align: middle;\n",
       "    }\n",
       "\n",
       "    .dataframe tbody tr th {\n",
       "        vertical-align: top;\n",
       "    }\n",
       "\n",
       "    .dataframe thead th {\n",
       "        text-align: right;\n",
       "    }\n",
       "</style>\n",
       "<table border=\"1\" class=\"dataframe\">\n",
       "  <thead>\n",
       "    <tr style=\"text-align: right;\">\n",
       "      <th></th>\n",
       "      <th>Risk code</th>\n",
       "      <th>Sexo</th>\n",
       "    </tr>\n",
       "  </thead>\n",
       "  <tbody>\n",
       "    <tr>\n",
       "      <th>0</th>\n",
       "      <td>3.0</td>\n",
       "      <td>1.0</td>\n",
       "    </tr>\n",
       "    <tr>\n",
       "      <th>1</th>\n",
       "      <td>0.0</td>\n",
       "      <td>1.0</td>\n",
       "    </tr>\n",
       "    <tr>\n",
       "      <th>2</th>\n",
       "      <td>1.0</td>\n",
       "      <td>1.0</td>\n",
       "    </tr>\n",
       "    <tr>\n",
       "      <th>3</th>\n",
       "      <td>3.0</td>\n",
       "      <td>1.0</td>\n",
       "    </tr>\n",
       "    <tr>\n",
       "      <th>4</th>\n",
       "      <td>3.0</td>\n",
       "      <td>1.0</td>\n",
       "    </tr>\n",
       "    <tr>\n",
       "      <th>...</th>\n",
       "      <td>...</td>\n",
       "      <td>...</td>\n",
       "    </tr>\n",
       "    <tr>\n",
       "      <th>56366</th>\n",
       "      <td>3.0</td>\n",
       "      <td>0.0</td>\n",
       "    </tr>\n",
       "    <tr>\n",
       "      <th>56367</th>\n",
       "      <td>3.0</td>\n",
       "      <td>0.0</td>\n",
       "    </tr>\n",
       "    <tr>\n",
       "      <th>56368</th>\n",
       "      <td>2.0</td>\n",
       "      <td>1.0</td>\n",
       "    </tr>\n",
       "    <tr>\n",
       "      <th>56369</th>\n",
       "      <td>3.0</td>\n",
       "      <td>1.0</td>\n",
       "    </tr>\n",
       "    <tr>\n",
       "      <th>56370</th>\n",
       "      <td>3.0</td>\n",
       "      <td>1.0</td>\n",
       "    </tr>\n",
       "  </tbody>\n",
       "</table>\n",
       "<p>56371 rows × 2 columns</p>\n",
       "</div>"
      ],
      "text/plain": [
       "       Risk code  Sexo\n",
       "0            3.0   1.0\n",
       "1            0.0   1.0\n",
       "2            1.0   1.0\n",
       "3            3.0   1.0\n",
       "4            3.0   1.0\n",
       "...          ...   ...\n",
       "56366        3.0   0.0\n",
       "56367        3.0   0.0\n",
       "56368        2.0   1.0\n",
       "56369        3.0   1.0\n",
       "56370        3.0   1.0\n",
       "\n",
       "[56371 rows x 2 columns]"
      ]
     },
     "execution_count": 8,
     "metadata": {},
     "output_type": "execute_result"
    }
   ],
   "source": [
    "X_train_encoded = pd.DataFrame(\n",
    "    X_train_encoded, columns=encoder.get_feature_names_out()\n",
    ")\n",
    "X_train_encoded"
   ]
  },
  {
   "cell_type": "markdown",
   "id": "e3b9b4ef",
   "metadata": {},
   "source": [
    "We observe that each categories is therefore encoded with an integer. We could check the correspondence by looking at the fitted attributes of the encoder."
   ]
  },
  {
   "cell_type": "code",
   "execution_count": 9,
   "id": "2f359956",
   "metadata": {},
   "outputs": [
    {
     "name": "stdout",
     "output_type": "stream",
     "text": [
      "For feature named 'Risk code'\n",
      "\n",
      "\tCategory 1 mapped to 0\n",
      "\tCategory 3 mapped to 1\n",
      "\tCategory 5 mapped to 2\n",
      "\tCategory 13 mapped to 3\n",
      "\tCategory 79 mapped to 4\n",
      "\n",
      "For feature named 'Sexo'\n",
      "\n",
      "\tCategory 'Femme' mapped to 0\n",
      "\tCategory 'Homme' mapped to 1\n",
      "\n"
     ]
    }
   ],
   "source": [
    "for col_name, col_categories in zip(\n",
    "    encoder.get_feature_names_out(),\n",
    "    encoder.categories_\n",
    "):\n",
    "    print(f\"For feature named {col_name!r}\")\n",
    "    print()\n",
    "    for code, cat in enumerate(col_categories):\n",
    "        print(f\"\\tCategory {cat!r} mapped to {code}\")\n",
    "    print()"
   ]
  },
  {
   "cell_type": "markdown",
   "id": "1171b9da",
   "metadata": {},
   "source": [
    "This type of encoder is imposing an ordering and it is not always adequate for linear model in which we don't want to impose such modeling. It is therefore the encoder of choice used in tree-based models.\n",
    "\n",
    "#### One-hot encoding\n",
    "\n",
    "When using a linear model, we will be \"usually\" interested of having an independence between categories. Therefore, with such models, `OneHotEncoder` is an interesting encoder. We will reproduce the previous experiment to show what this encoder does."
   ]
  },
  {
   "cell_type": "code",
   "execution_count": 10,
   "id": "426ed015",
   "metadata": {},
   "outputs": [
    {
     "data": {
      "text/plain": [
       "<56371x7 sparse matrix of type '<class 'numpy.float64'>'\n",
       "\twith 112742 stored elements in Compressed Sparse Row format>"
      ]
     },
     "execution_count": 10,
     "metadata": {},
     "output_type": "execute_result"
    }
   ],
   "source": [
    "from sklearn.preprocessing import OneHotEncoder\n",
    "\n",
    "encoder = OneHotEncoder()\n",
    "X_train_encoded = encoder.fit_transform(X_categorical)\n",
    "X_train_encoded"
   ]
  },
  {
   "cell_type": "code",
   "execution_count": 11,
   "id": "0204c6d4",
   "metadata": {},
   "outputs": [
    {
     "data": {
      "text/html": [
       "<div>\n",
       "<style scoped>\n",
       "    .dataframe tbody tr th:only-of-type {\n",
       "        vertical-align: middle;\n",
       "    }\n",
       "\n",
       "    .dataframe tbody tr th {\n",
       "        vertical-align: top;\n",
       "    }\n",
       "\n",
       "    .dataframe thead th {\n",
       "        text-align: right;\n",
       "    }\n",
       "</style>\n",
       "<table border=\"1\" class=\"dataframe\">\n",
       "  <thead>\n",
       "    <tr style=\"text-align: right;\">\n",
       "      <th></th>\n",
       "      <th>Risk code_1</th>\n",
       "      <th>Risk code_3</th>\n",
       "      <th>Risk code_5</th>\n",
       "      <th>Risk code_13</th>\n",
       "      <th>Risk code_79</th>\n",
       "      <th>Sexo_Femme</th>\n",
       "      <th>Sexo_Homme</th>\n",
       "    </tr>\n",
       "  </thead>\n",
       "  <tbody>\n",
       "    <tr>\n",
       "      <th>0</th>\n",
       "      <td>0.0</td>\n",
       "      <td>0.0</td>\n",
       "      <td>0.0</td>\n",
       "      <td>1.0</td>\n",
       "      <td>0.0</td>\n",
       "      <td>0.0</td>\n",
       "      <td>1.0</td>\n",
       "    </tr>\n",
       "    <tr>\n",
       "      <th>1</th>\n",
       "      <td>1.0</td>\n",
       "      <td>0.0</td>\n",
       "      <td>0.0</td>\n",
       "      <td>0.0</td>\n",
       "      <td>0.0</td>\n",
       "      <td>0.0</td>\n",
       "      <td>1.0</td>\n",
       "    </tr>\n",
       "    <tr>\n",
       "      <th>2</th>\n",
       "      <td>0.0</td>\n",
       "      <td>1.0</td>\n",
       "      <td>0.0</td>\n",
       "      <td>0.0</td>\n",
       "      <td>0.0</td>\n",
       "      <td>0.0</td>\n",
       "      <td>1.0</td>\n",
       "    </tr>\n",
       "    <tr>\n",
       "      <th>3</th>\n",
       "      <td>0.0</td>\n",
       "      <td>0.0</td>\n",
       "      <td>0.0</td>\n",
       "      <td>1.0</td>\n",
       "      <td>0.0</td>\n",
       "      <td>0.0</td>\n",
       "      <td>1.0</td>\n",
       "    </tr>\n",
       "    <tr>\n",
       "      <th>4</th>\n",
       "      <td>0.0</td>\n",
       "      <td>0.0</td>\n",
       "      <td>0.0</td>\n",
       "      <td>1.0</td>\n",
       "      <td>0.0</td>\n",
       "      <td>0.0</td>\n",
       "      <td>1.0</td>\n",
       "    </tr>\n",
       "    <tr>\n",
       "      <th>...</th>\n",
       "      <td>...</td>\n",
       "      <td>...</td>\n",
       "      <td>...</td>\n",
       "      <td>...</td>\n",
       "      <td>...</td>\n",
       "      <td>...</td>\n",
       "      <td>...</td>\n",
       "    </tr>\n",
       "    <tr>\n",
       "      <th>56366</th>\n",
       "      <td>0.0</td>\n",
       "      <td>0.0</td>\n",
       "      <td>0.0</td>\n",
       "      <td>1.0</td>\n",
       "      <td>0.0</td>\n",
       "      <td>1.0</td>\n",
       "      <td>0.0</td>\n",
       "    </tr>\n",
       "    <tr>\n",
       "      <th>56367</th>\n",
       "      <td>0.0</td>\n",
       "      <td>0.0</td>\n",
       "      <td>0.0</td>\n",
       "      <td>1.0</td>\n",
       "      <td>0.0</td>\n",
       "      <td>1.0</td>\n",
       "      <td>0.0</td>\n",
       "    </tr>\n",
       "    <tr>\n",
       "      <th>56368</th>\n",
       "      <td>0.0</td>\n",
       "      <td>0.0</td>\n",
       "      <td>1.0</td>\n",
       "      <td>0.0</td>\n",
       "      <td>0.0</td>\n",
       "      <td>0.0</td>\n",
       "      <td>1.0</td>\n",
       "    </tr>\n",
       "    <tr>\n",
       "      <th>56369</th>\n",
       "      <td>0.0</td>\n",
       "      <td>0.0</td>\n",
       "      <td>0.0</td>\n",
       "      <td>1.0</td>\n",
       "      <td>0.0</td>\n",
       "      <td>0.0</td>\n",
       "      <td>1.0</td>\n",
       "    </tr>\n",
       "    <tr>\n",
       "      <th>56370</th>\n",
       "      <td>0.0</td>\n",
       "      <td>0.0</td>\n",
       "      <td>0.0</td>\n",
       "      <td>1.0</td>\n",
       "      <td>0.0</td>\n",
       "      <td>0.0</td>\n",
       "      <td>1.0</td>\n",
       "    </tr>\n",
       "  </tbody>\n",
       "</table>\n",
       "<p>56371 rows × 7 columns</p>\n",
       "</div>"
      ],
      "text/plain": [
       "       Risk code_1  Risk code_3  Risk code_5  Risk code_13  Risk code_79  \\\n",
       "0              0.0          0.0          0.0           1.0           0.0   \n",
       "1              1.0          0.0          0.0           0.0           0.0   \n",
       "2              0.0          1.0          0.0           0.0           0.0   \n",
       "3              0.0          0.0          0.0           1.0           0.0   \n",
       "4              0.0          0.0          0.0           1.0           0.0   \n",
       "...            ...          ...          ...           ...           ...   \n",
       "56366          0.0          0.0          0.0           1.0           0.0   \n",
       "56367          0.0          0.0          0.0           1.0           0.0   \n",
       "56368          0.0          0.0          1.0           0.0           0.0   \n",
       "56369          0.0          0.0          0.0           1.0           0.0   \n",
       "56370          0.0          0.0          0.0           1.0           0.0   \n",
       "\n",
       "       Sexo_Femme  Sexo_Homme  \n",
       "0             0.0         1.0  \n",
       "1             0.0         1.0  \n",
       "2             0.0         1.0  \n",
       "3             0.0         1.0  \n",
       "4             0.0         1.0  \n",
       "...           ...         ...  \n",
       "56366         1.0         0.0  \n",
       "56367         1.0         0.0  \n",
       "56368         0.0         1.0  \n",
       "56369         0.0         1.0  \n",
       "56370         0.0         1.0  \n",
       "\n",
       "[56371 rows x 7 columns]"
      ]
     },
     "execution_count": 11,
     "metadata": {},
     "output_type": "execute_result"
    }
   ],
   "source": [
    "X_train_encoded = pd.DataFrame(\n",
    "    X_train_encoded.A, columns=encoder.get_feature_names_out()\n",
    ")\n",
    "X_train_encoded"
   ]
  },
  {
   "cell_type": "markdown",
   "id": "aae90263",
   "metadata": {},
   "source": [
    "We see that each category becomes a column and that an indicator 0/1 is used to indicate whether or not we deal with the category for this sample."
   ]
  },
  {
   "cell_type": "markdown",
   "id": "ef55b0df",
   "metadata": {},
   "source": [
    "### Creating basic predictive models\n",
    "\n",
    "Now, we can design some predictive model. Here, we will develop 3 predictive models:\n",
    "\n",
    "- a dummy classifier that is not going to use `X` to make any prediction. It is not an interesting model but it provides a kind of baseline.\n",
    "- a linear model with an adequate preprocessing. Indeed, the preprocessing has to contain a scaler and a one-hot encoder.\n",
    "- a gradient boosting decision trees model. This model should use an ordinal encoder in its preproceesing stage.\n",
    "\n",
    "Let's define the three models.\n",
    "\n",
    "#### Dummy classifier"
   ]
  },
  {
   "cell_type": "code",
   "execution_count": 12,
   "id": "3fdcffe9",
   "metadata": {},
   "outputs": [],
   "source": [
    "from sklearn.dummy import DummyClassifier\n",
    "\n",
    "dummy_model = DummyClassifier()"
   ]
  },
  {
   "cell_type": "markdown",
   "id": "fb173907",
   "metadata": {},
   "source": [
    "#### Linear model"
   ]
  },
  {
   "cell_type": "code",
   "execution_count": 13,
   "id": "6ecfdaf6",
   "metadata": {},
   "outputs": [
    {
     "data": {
      "text/plain": [
       "['Age at signature',\n",
       " 'Age client at claim',\n",
       " 'Age policy at claim',\n",
       " 'Delay declaration',\n",
       " 'Initial_Instalment_Amount',\n",
       " 'Insured amount']"
      ]
     },
     "execution_count": 13,
     "metadata": {},
     "output_type": "execute_result"
    }
   ],
   "source": [
    "# define the name of the numerical columns (the ones that are not categorical)\n",
    "numerical_columns = X.columns.difference(categorical_columns).tolist()\n",
    "numerical_columns"
   ]
  },
  {
   "cell_type": "code",
   "execution_count": 14,
   "id": "ad96b039",
   "metadata": {},
   "outputs": [
    {
     "data": {
      "text/html": [
       "<style>#sk-container-id-1 {color: black;background-color: white;}#sk-container-id-1 pre{padding: 0;}#sk-container-id-1 div.sk-toggleable {background-color: white;}#sk-container-id-1 label.sk-toggleable__label {cursor: pointer;display: block;width: 100%;margin-bottom: 0;padding: 0.3em;box-sizing: border-box;text-align: center;}#sk-container-id-1 label.sk-toggleable__label-arrow:before {content: \"▸\";float: left;margin-right: 0.25em;color: #696969;}#sk-container-id-1 label.sk-toggleable__label-arrow:hover:before {color: black;}#sk-container-id-1 div.sk-estimator:hover label.sk-toggleable__label-arrow:before {color: black;}#sk-container-id-1 div.sk-toggleable__content {max-height: 0;max-width: 0;overflow: hidden;text-align: left;background-color: #f0f8ff;}#sk-container-id-1 div.sk-toggleable__content pre {margin: 0.2em;color: black;border-radius: 0.25em;background-color: #f0f8ff;}#sk-container-id-1 input.sk-toggleable__control:checked~div.sk-toggleable__content {max-height: 200px;max-width: 100%;overflow: auto;}#sk-container-id-1 input.sk-toggleable__control:checked~label.sk-toggleable__label-arrow:before {content: \"▾\";}#sk-container-id-1 div.sk-estimator input.sk-toggleable__control:checked~label.sk-toggleable__label {background-color: #d4ebff;}#sk-container-id-1 div.sk-label input.sk-toggleable__control:checked~label.sk-toggleable__label {background-color: #d4ebff;}#sk-container-id-1 input.sk-hidden--visually {border: 0;clip: rect(1px 1px 1px 1px);clip: rect(1px, 1px, 1px, 1px);height: 1px;margin: -1px;overflow: hidden;padding: 0;position: absolute;width: 1px;}#sk-container-id-1 div.sk-estimator {font-family: monospace;background-color: #f0f8ff;border: 1px dotted black;border-radius: 0.25em;box-sizing: border-box;margin-bottom: 0.5em;}#sk-container-id-1 div.sk-estimator:hover {background-color: #d4ebff;}#sk-container-id-1 div.sk-parallel-item::after {content: \"\";width: 100%;border-bottom: 1px solid gray;flex-grow: 1;}#sk-container-id-1 div.sk-label:hover label.sk-toggleable__label {background-color: #d4ebff;}#sk-container-id-1 div.sk-serial::before {content: \"\";position: absolute;border-left: 1px solid gray;box-sizing: border-box;top: 0;bottom: 0;left: 50%;z-index: 0;}#sk-container-id-1 div.sk-serial {display: flex;flex-direction: column;align-items: center;background-color: white;padding-right: 0.2em;padding-left: 0.2em;position: relative;}#sk-container-id-1 div.sk-item {position: relative;z-index: 1;}#sk-container-id-1 div.sk-parallel {display: flex;align-items: stretch;justify-content: center;background-color: white;position: relative;}#sk-container-id-1 div.sk-item::before, #sk-container-id-1 div.sk-parallel-item::before {content: \"\";position: absolute;border-left: 1px solid gray;box-sizing: border-box;top: 0;bottom: 0;left: 50%;z-index: -1;}#sk-container-id-1 div.sk-parallel-item {display: flex;flex-direction: column;z-index: 1;position: relative;background-color: white;}#sk-container-id-1 div.sk-parallel-item:first-child::after {align-self: flex-end;width: 50%;}#sk-container-id-1 div.sk-parallel-item:last-child::after {align-self: flex-start;width: 50%;}#sk-container-id-1 div.sk-parallel-item:only-child::after {width: 0;}#sk-container-id-1 div.sk-dashed-wrapped {border: 1px dashed gray;margin: 0 0.4em 0.5em 0.4em;box-sizing: border-box;padding-bottom: 0.4em;background-color: white;}#sk-container-id-1 div.sk-label label {font-family: monospace;font-weight: bold;display: inline-block;line-height: 1.2em;}#sk-container-id-1 div.sk-label-container {text-align: center;}#sk-container-id-1 div.sk-container {/* jupyter's `normalize.less` sets `[hidden] { display: none; }` but bootstrap.min.css set `[hidden] { display: none !important; }` so we also need the `!important` here to be able to override the default hidden behavior on the sphinx rendered scikit-learn.org. See: https://github.com/scikit-learn/scikit-learn/issues/21755 */display: inline-block !important;position: relative;}#sk-container-id-1 div.sk-text-repr-fallback {display: none;}</style><div id=\"sk-container-id-1\" class=\"sk-top-container\"><div class=\"sk-text-repr-fallback\"><pre>Pipeline(steps=[(&#x27;preprocessor&#x27;,\n",
       "                 ColumnTransformer(transformers=[(&#x27;categorical_processor&#x27;,\n",
       "                                                  OneHotEncoder(drop=&#x27;if_binary&#x27;),\n",
       "                                                  [&#x27;Risk code&#x27;, &#x27;Sexo&#x27;]),\n",
       "                                                 (&#x27;numerical_processor&#x27;,\n",
       "                                                  StandardScaler(),\n",
       "                                                  [&#x27;Age at signature&#x27;,\n",
       "                                                   &#x27;Age client at claim&#x27;,\n",
       "                                                   &#x27;Age policy at claim&#x27;,\n",
       "                                                   &#x27;Delay declaration&#x27;,\n",
       "                                                   &#x27;Initial_Instalment_Amount&#x27;,\n",
       "                                                   &#x27;Insured amount&#x27;])])),\n",
       "                (&#x27;classifier&#x27;, LogisticRegression())])</pre><b>In a Jupyter environment, please rerun this cell to show the HTML representation or trust the notebook. <br />On GitHub, the HTML representation is unable to render, please try loading this page with nbviewer.org.</b></div><div class=\"sk-container\" hidden><div class=\"sk-item sk-dashed-wrapped\"><div class=\"sk-label-container\"><div class=\"sk-label sk-toggleable\"><input class=\"sk-toggleable__control sk-hidden--visually\" id=\"sk-estimator-id-1\" type=\"checkbox\" ><label for=\"sk-estimator-id-1\" class=\"sk-toggleable__label sk-toggleable__label-arrow\">Pipeline</label><div class=\"sk-toggleable__content\"><pre>Pipeline(steps=[(&#x27;preprocessor&#x27;,\n",
       "                 ColumnTransformer(transformers=[(&#x27;categorical_processor&#x27;,\n",
       "                                                  OneHotEncoder(drop=&#x27;if_binary&#x27;),\n",
       "                                                  [&#x27;Risk code&#x27;, &#x27;Sexo&#x27;]),\n",
       "                                                 (&#x27;numerical_processor&#x27;,\n",
       "                                                  StandardScaler(),\n",
       "                                                  [&#x27;Age at signature&#x27;,\n",
       "                                                   &#x27;Age client at claim&#x27;,\n",
       "                                                   &#x27;Age policy at claim&#x27;,\n",
       "                                                   &#x27;Delay declaration&#x27;,\n",
       "                                                   &#x27;Initial_Instalment_Amount&#x27;,\n",
       "                                                   &#x27;Insured amount&#x27;])])),\n",
       "                (&#x27;classifier&#x27;, LogisticRegression())])</pre></div></div></div><div class=\"sk-serial\"><div class=\"sk-item sk-dashed-wrapped\"><div class=\"sk-label-container\"><div class=\"sk-label sk-toggleable\"><input class=\"sk-toggleable__control sk-hidden--visually\" id=\"sk-estimator-id-2\" type=\"checkbox\" ><label for=\"sk-estimator-id-2\" class=\"sk-toggleable__label sk-toggleable__label-arrow\">preprocessor: ColumnTransformer</label><div class=\"sk-toggleable__content\"><pre>ColumnTransformer(transformers=[(&#x27;categorical_processor&#x27;,\n",
       "                                 OneHotEncoder(drop=&#x27;if_binary&#x27;),\n",
       "                                 [&#x27;Risk code&#x27;, &#x27;Sexo&#x27;]),\n",
       "                                (&#x27;numerical_processor&#x27;, StandardScaler(),\n",
       "                                 [&#x27;Age at signature&#x27;, &#x27;Age client at claim&#x27;,\n",
       "                                  &#x27;Age policy at claim&#x27;, &#x27;Delay declaration&#x27;,\n",
       "                                  &#x27;Initial_Instalment_Amount&#x27;,\n",
       "                                  &#x27;Insured amount&#x27;])])</pre></div></div></div><div class=\"sk-parallel\"><div class=\"sk-parallel-item\"><div class=\"sk-item\"><div class=\"sk-label-container\"><div class=\"sk-label sk-toggleable\"><input class=\"sk-toggleable__control sk-hidden--visually\" id=\"sk-estimator-id-3\" type=\"checkbox\" ><label for=\"sk-estimator-id-3\" class=\"sk-toggleable__label sk-toggleable__label-arrow\">categorical_processor</label><div class=\"sk-toggleable__content\"><pre>[&#x27;Risk code&#x27;, &#x27;Sexo&#x27;]</pre></div></div></div><div class=\"sk-serial\"><div class=\"sk-item\"><div class=\"sk-estimator sk-toggleable\"><input class=\"sk-toggleable__control sk-hidden--visually\" id=\"sk-estimator-id-4\" type=\"checkbox\" ><label for=\"sk-estimator-id-4\" class=\"sk-toggleable__label sk-toggleable__label-arrow\">OneHotEncoder</label><div class=\"sk-toggleable__content\"><pre>OneHotEncoder(drop=&#x27;if_binary&#x27;)</pre></div></div></div></div></div></div><div class=\"sk-parallel-item\"><div class=\"sk-item\"><div class=\"sk-label-container\"><div class=\"sk-label sk-toggleable\"><input class=\"sk-toggleable__control sk-hidden--visually\" id=\"sk-estimator-id-5\" type=\"checkbox\" ><label for=\"sk-estimator-id-5\" class=\"sk-toggleable__label sk-toggleable__label-arrow\">numerical_processor</label><div class=\"sk-toggleable__content\"><pre>[&#x27;Age at signature&#x27;, &#x27;Age client at claim&#x27;, &#x27;Age policy at claim&#x27;, &#x27;Delay declaration&#x27;, &#x27;Initial_Instalment_Amount&#x27;, &#x27;Insured amount&#x27;]</pre></div></div></div><div class=\"sk-serial\"><div class=\"sk-item\"><div class=\"sk-estimator sk-toggleable\"><input class=\"sk-toggleable__control sk-hidden--visually\" id=\"sk-estimator-id-6\" type=\"checkbox\" ><label for=\"sk-estimator-id-6\" class=\"sk-toggleable__label sk-toggleable__label-arrow\">StandardScaler</label><div class=\"sk-toggleable__content\"><pre>StandardScaler()</pre></div></div></div></div></div></div></div></div><div class=\"sk-item\"><div class=\"sk-estimator sk-toggleable\"><input class=\"sk-toggleable__control sk-hidden--visually\" id=\"sk-estimator-id-7\" type=\"checkbox\" ><label for=\"sk-estimator-id-7\" class=\"sk-toggleable__label sk-toggleable__label-arrow\">LogisticRegression</label><div class=\"sk-toggleable__content\"><pre>LogisticRegression()</pre></div></div></div></div></div></div></div>"
      ],
      "text/plain": [
       "Pipeline(steps=[('preprocessor',\n",
       "                 ColumnTransformer(transformers=[('categorical_processor',\n",
       "                                                  OneHotEncoder(drop='if_binary'),\n",
       "                                                  ['Risk code', 'Sexo']),\n",
       "                                                 ('numerical_processor',\n",
       "                                                  StandardScaler(),\n",
       "                                                  ['Age at signature',\n",
       "                                                   'Age client at claim',\n",
       "                                                   'Age policy at claim',\n",
       "                                                   'Delay declaration',\n",
       "                                                   'Initial_Instalment_Amount',\n",
       "                                                   'Insured amount'])])),\n",
       "                ('classifier', LogisticRegression())])"
      ]
     },
     "execution_count": 14,
     "metadata": {},
     "output_type": "execute_result"
    }
   ],
   "source": [
    "from sklearn.compose import ColumnTransformer\n",
    "from sklearn.pipeline import Pipeline\n",
    "from sklearn.preprocessing import StandardScaler\n",
    "from sklearn.linear_model import LogisticRegression\n",
    "\n",
    "preprocessor = ColumnTransformer(transformers=[\n",
    "    (\"categorical_processor\", OneHotEncoder(drop=\"if_binary\"), categorical_columns),\n",
    "    (\"numerical_processor\", StandardScaler(), numerical_columns),\n",
    "])\n",
    "linear_model = Pipeline(steps=[\n",
    "    (\"preprocessor\", preprocessor), (\"classifier\", LogisticRegression())\n",
    "])\n",
    "linear_model"
   ]
  },
  {
   "cell_type": "markdown",
   "id": "ef5f9e2b",
   "metadata": {},
   "source": [
    "#### Tree-based model"
   ]
  },
  {
   "cell_type": "code",
   "execution_count": 15,
   "id": "a2cce582",
   "metadata": {},
   "outputs": [
    {
     "data": {
      "text/html": [
       "<style>#sk-container-id-2 {color: black;background-color: white;}#sk-container-id-2 pre{padding: 0;}#sk-container-id-2 div.sk-toggleable {background-color: white;}#sk-container-id-2 label.sk-toggleable__label {cursor: pointer;display: block;width: 100%;margin-bottom: 0;padding: 0.3em;box-sizing: border-box;text-align: center;}#sk-container-id-2 label.sk-toggleable__label-arrow:before {content: \"▸\";float: left;margin-right: 0.25em;color: #696969;}#sk-container-id-2 label.sk-toggleable__label-arrow:hover:before {color: black;}#sk-container-id-2 div.sk-estimator:hover label.sk-toggleable__label-arrow:before {color: black;}#sk-container-id-2 div.sk-toggleable__content {max-height: 0;max-width: 0;overflow: hidden;text-align: left;background-color: #f0f8ff;}#sk-container-id-2 div.sk-toggleable__content pre {margin: 0.2em;color: black;border-radius: 0.25em;background-color: #f0f8ff;}#sk-container-id-2 input.sk-toggleable__control:checked~div.sk-toggleable__content {max-height: 200px;max-width: 100%;overflow: auto;}#sk-container-id-2 input.sk-toggleable__control:checked~label.sk-toggleable__label-arrow:before {content: \"▾\";}#sk-container-id-2 div.sk-estimator input.sk-toggleable__control:checked~label.sk-toggleable__label {background-color: #d4ebff;}#sk-container-id-2 div.sk-label input.sk-toggleable__control:checked~label.sk-toggleable__label {background-color: #d4ebff;}#sk-container-id-2 input.sk-hidden--visually {border: 0;clip: rect(1px 1px 1px 1px);clip: rect(1px, 1px, 1px, 1px);height: 1px;margin: -1px;overflow: hidden;padding: 0;position: absolute;width: 1px;}#sk-container-id-2 div.sk-estimator {font-family: monospace;background-color: #f0f8ff;border: 1px dotted black;border-radius: 0.25em;box-sizing: border-box;margin-bottom: 0.5em;}#sk-container-id-2 div.sk-estimator:hover {background-color: #d4ebff;}#sk-container-id-2 div.sk-parallel-item::after {content: \"\";width: 100%;border-bottom: 1px solid gray;flex-grow: 1;}#sk-container-id-2 div.sk-label:hover label.sk-toggleable__label {background-color: #d4ebff;}#sk-container-id-2 div.sk-serial::before {content: \"\";position: absolute;border-left: 1px solid gray;box-sizing: border-box;top: 0;bottom: 0;left: 50%;z-index: 0;}#sk-container-id-2 div.sk-serial {display: flex;flex-direction: column;align-items: center;background-color: white;padding-right: 0.2em;padding-left: 0.2em;position: relative;}#sk-container-id-2 div.sk-item {position: relative;z-index: 1;}#sk-container-id-2 div.sk-parallel {display: flex;align-items: stretch;justify-content: center;background-color: white;position: relative;}#sk-container-id-2 div.sk-item::before, #sk-container-id-2 div.sk-parallel-item::before {content: \"\";position: absolute;border-left: 1px solid gray;box-sizing: border-box;top: 0;bottom: 0;left: 50%;z-index: -1;}#sk-container-id-2 div.sk-parallel-item {display: flex;flex-direction: column;z-index: 1;position: relative;background-color: white;}#sk-container-id-2 div.sk-parallel-item:first-child::after {align-self: flex-end;width: 50%;}#sk-container-id-2 div.sk-parallel-item:last-child::after {align-self: flex-start;width: 50%;}#sk-container-id-2 div.sk-parallel-item:only-child::after {width: 0;}#sk-container-id-2 div.sk-dashed-wrapped {border: 1px dashed gray;margin: 0 0.4em 0.5em 0.4em;box-sizing: border-box;padding-bottom: 0.4em;background-color: white;}#sk-container-id-2 div.sk-label label {font-family: monospace;font-weight: bold;display: inline-block;line-height: 1.2em;}#sk-container-id-2 div.sk-label-container {text-align: center;}#sk-container-id-2 div.sk-container {/* jupyter's `normalize.less` sets `[hidden] { display: none; }` but bootstrap.min.css set `[hidden] { display: none !important; }` so we also need the `!important` here to be able to override the default hidden behavior on the sphinx rendered scikit-learn.org. See: https://github.com/scikit-learn/scikit-learn/issues/21755 */display: inline-block !important;position: relative;}#sk-container-id-2 div.sk-text-repr-fallback {display: none;}</style><div id=\"sk-container-id-2\" class=\"sk-top-container\"><div class=\"sk-text-repr-fallback\"><pre>Pipeline(steps=[(&#x27;preprocessor&#x27;,\n",
       "                 ColumnTransformer(remainder=&#x27;passthrough&#x27;,\n",
       "                                   transformers=[(&#x27;categorical_processor&#x27;,\n",
       "                                                  OrdinalEncoder(),\n",
       "                                                  [&#x27;Risk code&#x27;, &#x27;Sexo&#x27;])])),\n",
       "                (&#x27;classifier&#x27;, HistGradientBoostingClassifier(random_state=0))])</pre><b>In a Jupyter environment, please rerun this cell to show the HTML representation or trust the notebook. <br />On GitHub, the HTML representation is unable to render, please try loading this page with nbviewer.org.</b></div><div class=\"sk-container\" hidden><div class=\"sk-item sk-dashed-wrapped\"><div class=\"sk-label-container\"><div class=\"sk-label sk-toggleable\"><input class=\"sk-toggleable__control sk-hidden--visually\" id=\"sk-estimator-id-8\" type=\"checkbox\" ><label for=\"sk-estimator-id-8\" class=\"sk-toggleable__label sk-toggleable__label-arrow\">Pipeline</label><div class=\"sk-toggleable__content\"><pre>Pipeline(steps=[(&#x27;preprocessor&#x27;,\n",
       "                 ColumnTransformer(remainder=&#x27;passthrough&#x27;,\n",
       "                                   transformers=[(&#x27;categorical_processor&#x27;,\n",
       "                                                  OrdinalEncoder(),\n",
       "                                                  [&#x27;Risk code&#x27;, &#x27;Sexo&#x27;])])),\n",
       "                (&#x27;classifier&#x27;, HistGradientBoostingClassifier(random_state=0))])</pre></div></div></div><div class=\"sk-serial\"><div class=\"sk-item sk-dashed-wrapped\"><div class=\"sk-label-container\"><div class=\"sk-label sk-toggleable\"><input class=\"sk-toggleable__control sk-hidden--visually\" id=\"sk-estimator-id-9\" type=\"checkbox\" ><label for=\"sk-estimator-id-9\" class=\"sk-toggleable__label sk-toggleable__label-arrow\">preprocessor: ColumnTransformer</label><div class=\"sk-toggleable__content\"><pre>ColumnTransformer(remainder=&#x27;passthrough&#x27;,\n",
       "                  transformers=[(&#x27;categorical_processor&#x27;, OrdinalEncoder(),\n",
       "                                 [&#x27;Risk code&#x27;, &#x27;Sexo&#x27;])])</pre></div></div></div><div class=\"sk-parallel\"><div class=\"sk-parallel-item\"><div class=\"sk-item\"><div class=\"sk-label-container\"><div class=\"sk-label sk-toggleable\"><input class=\"sk-toggleable__control sk-hidden--visually\" id=\"sk-estimator-id-10\" type=\"checkbox\" ><label for=\"sk-estimator-id-10\" class=\"sk-toggleable__label sk-toggleable__label-arrow\">categorical_processor</label><div class=\"sk-toggleable__content\"><pre>[&#x27;Risk code&#x27;, &#x27;Sexo&#x27;]</pre></div></div></div><div class=\"sk-serial\"><div class=\"sk-item\"><div class=\"sk-estimator sk-toggleable\"><input class=\"sk-toggleable__control sk-hidden--visually\" id=\"sk-estimator-id-11\" type=\"checkbox\" ><label for=\"sk-estimator-id-11\" class=\"sk-toggleable__label sk-toggleable__label-arrow\">OrdinalEncoder</label><div class=\"sk-toggleable__content\"><pre>OrdinalEncoder()</pre></div></div></div></div></div></div><div class=\"sk-parallel-item\"><div class=\"sk-item\"><div class=\"sk-label-container\"><div class=\"sk-label sk-toggleable\"><input class=\"sk-toggleable__control sk-hidden--visually\" id=\"sk-estimator-id-12\" type=\"checkbox\" ><label for=\"sk-estimator-id-12\" class=\"sk-toggleable__label sk-toggleable__label-arrow\">remainder</label><div class=\"sk-toggleable__content\"><pre></pre></div></div></div><div class=\"sk-serial\"><div class=\"sk-item\"><div class=\"sk-estimator sk-toggleable\"><input class=\"sk-toggleable__control sk-hidden--visually\" id=\"sk-estimator-id-13\" type=\"checkbox\" ><label for=\"sk-estimator-id-13\" class=\"sk-toggleable__label sk-toggleable__label-arrow\">passthrough</label><div class=\"sk-toggleable__content\"><pre>passthrough</pre></div></div></div></div></div></div></div></div><div class=\"sk-item\"><div class=\"sk-estimator sk-toggleable\"><input class=\"sk-toggleable__control sk-hidden--visually\" id=\"sk-estimator-id-14\" type=\"checkbox\" ><label for=\"sk-estimator-id-14\" class=\"sk-toggleable__label sk-toggleable__label-arrow\">HistGradientBoostingClassifier</label><div class=\"sk-toggleable__content\"><pre>HistGradientBoostingClassifier(random_state=0)</pre></div></div></div></div></div></div></div>"
      ],
      "text/plain": [
       "Pipeline(steps=[('preprocessor',\n",
       "                 ColumnTransformer(remainder='passthrough',\n",
       "                                   transformers=[('categorical_processor',\n",
       "                                                  OrdinalEncoder(),\n",
       "                                                  ['Risk code', 'Sexo'])])),\n",
       "                ('classifier', HistGradientBoostingClassifier(random_state=0))])"
      ]
     },
     "execution_count": 15,
     "metadata": {},
     "output_type": "execute_result"
    }
   ],
   "source": [
    "from sklearn.ensemble import HistGradientBoostingClassifier\n",
    "\n",
    "preprocessor = ColumnTransformer(transformers=[\n",
    "        (\"categorical_processor\", OrdinalEncoder(), categorical_columns),\n",
    "    ],\n",
    "    remainder=\"passthrough\",\n",
    ")\n",
    "hgbdt_model = Pipeline(steps=[\n",
    "    (\"preprocessor\", preprocessor),\n",
    "    (\"classifier\", HistGradientBoostingClassifier(random_state=0)),\n",
    "])\n",
    "hgbdt_model"
   ]
  },
  {
   "cell_type": "markdown",
   "id": "a682ffe9",
   "metadata": {},
   "source": [
    "### Evaluating these models with cross-validation\n",
    "\n",
    "Now that we define these models, we have to evaluate them. For this purpose, we need to use a metric. However, our problem is imbalanced:"
   ]
  },
  {
   "cell_type": "code",
   "execution_count": 16,
   "id": "8ccb43e8",
   "metadata": {},
   "outputs": [
    {
     "data": {
      "text/plain": [
       "No     0.733249\n",
       "Yes    0.266751\n",
       "Name: Refusal_Flag, dtype: float64"
      ]
     },
     "execution_count": 16,
     "metadata": {},
     "output_type": "execute_result"
    }
   ],
   "source": [
    "y.value_counts(normalize=True)"
   ]
  },
  {
   "cell_type": "markdown",
   "id": "6572cfa8",
   "metadata": {},
   "source": [
    "Indeed, the proportion of `\"No\"` and `\"Yes\"` is not 50-50. We therefore need to select a proper statistical metric. Here, we can use the ROC-AUC.\n",
    "\n",
    "We also need to choose a cross-validation strategy. A stratified k-fold cross-validation is a good choice in this case to be sure that the ratio of the classes is preserved in each of the splits. In addition, we will shuffle the data. I will come back on this point.\n",
    "\n",
    "Let's evaluate the dummy classifier."
   ]
  },
  {
   "cell_type": "code",
   "execution_count": 17,
   "id": "407b21c1",
   "metadata": {},
   "outputs": [
    {
     "name": "stdout",
     "output_type": "stream",
     "text": [
      "Dummy classifier results in terms of ROC-AUC:\n",
      "\n",
      "    Training: 0.500 +/- 0.000\n",
      "    Testing: 0.500 +/- 0.000\n",
      "    \n"
     ]
    }
   ],
   "source": [
    "from sklearn.model_selection import cross_validate, StratifiedKFold\n",
    "\n",
    "cv = StratifiedKFold(n_splits=30, shuffle=True)\n",
    "cv_results = cross_validate(\n",
    "    dummy_model, X, y,\n",
    "    return_train_score=True,\n",
    "    scoring=[\"roc_auc\"],\n",
    "    n_jobs=-1,\n",
    "    cv=cv,\n",
    ")\n",
    "cv_results = pd.DataFrame(cv_results)\n",
    "cv_results = cv_results[[\"train_roc_auc\", \"test_roc_auc\"]]\n",
    "print(\n",
    "    f\"\"\"Dummy classifier results in terms of ROC-AUC:\n",
    "\n",
    "    Training: {cv_results['train_roc_auc'].mean():.3f} +/- {cv_results['train_roc_auc'].std():.3f}\n",
    "    Testing: {cv_results['test_roc_auc'].mean():.3f} +/- {cv_results['test_roc_auc'].std():.3f}\n",
    "    \"\"\"\n",
    ")"
   ]
  },
  {
   "cell_type": "markdown",
   "id": "c8a6079d",
   "metadata": {},
   "source": [
    "It is not a surprised that this model outputs an average AUC of 0.5 on both training and testing. Let's check if a linear model provides better statistics."
   ]
  },
  {
   "cell_type": "code",
   "execution_count": 18,
   "id": "8883fadc",
   "metadata": {},
   "outputs": [
    {
     "name": "stdout",
     "output_type": "stream",
     "text": [
      "Linear model results in terms of ROC-AUC:\n",
      "\n",
      "    Training: 0.630 +/- 0.001\n",
      "    Testing: 0.630 +/- 0.015\n",
      "    \n"
     ]
    }
   ],
   "source": [
    "cv_results = cross_validate(\n",
    "    linear_model, X, y,\n",
    "    return_train_score=True,\n",
    "    scoring=[\"roc_auc\"],\n",
    "    n_jobs=-1,\n",
    "    cv=cv,\n",
    ")\n",
    "cv_results = pd.DataFrame(cv_results)\n",
    "cv_results = cv_results[[\"train_roc_auc\", \"test_roc_auc\"]]\n",
    "print(\n",
    "    f\"\"\"Linear model results in terms of ROC-AUC:\n",
    "\n",
    "    Training: {cv_results['train_roc_auc'].mean():.3f} +/- {cv_results['train_roc_auc'].std():.3f}\n",
    "    Testing: {cv_results['test_roc_auc'].mean():.3f} +/- {cv_results['test_roc_auc'].std():.3f}\n",
    "    \"\"\"\n",
    ")"
   ]
  },
  {
   "cell_type": "markdown",
   "id": "15d328fd",
   "metadata": {},
   "source": [
    "It seems that this is a bit better. We can also see that the model does not overfit since the results are similar on the training and testing set. Let's check the last model type of model:"
   ]
  },
  {
   "cell_type": "code",
   "execution_count": 19,
   "id": "ce4fcd70",
   "metadata": {},
   "outputs": [
    {
     "name": "stdout",
     "output_type": "stream",
     "text": [
      "HGBDT model results in terms of ROC-AUC:\n",
      "\n",
      "    Training: 0.775 +/- 0.005\n",
      "    Testing: 0.742 +/- 0.013\n",
      "    \n"
     ]
    }
   ],
   "source": [
    "cv_results = cross_validate(\n",
    "    hgbdt_model, X, y,\n",
    "    return_train_score=True,\n",
    "    scoring=[\"roc_auc\"],\n",
    "    n_jobs=-1,\n",
    "    cv=cv,\n",
    ")\n",
    "cv_results = pd.DataFrame(cv_results)\n",
    "print(\n",
    "    f\"\"\"HGBDT model results in terms of ROC-AUC:\n",
    "\n",
    "    Training: {cv_results['train_roc_auc'].mean():.3f} +/- {cv_results['train_roc_auc'].std():.3f}\n",
    "    Testing: {cv_results['test_roc_auc'].mean():.3f} +/- {cv_results['test_roc_auc'].std():.3f}\n",
    "    \"\"\"\n",
    ")"
   ]
  },
  {
   "cell_type": "markdown",
   "id": "e107441d",
   "metadata": {},
   "source": [
    "We observe that this model is better than the previous one. we can see that there is a small overfitting since the model is performing worse on the testing set than on the training set."
   ]
  },
  {
   "cell_type": "markdown",
   "id": "1c806ee8",
   "metadata": {},
   "source": [
    "### Why it did not work for me\n",
    "\n",
    "During the datacamp, we never got to the above results: it was much worse. One reason is linked to `shuffle=True` used in the cross-validation. Let's repeat the previous experiment without any shuffling:"
   ]
  },
  {
   "cell_type": "code",
   "execution_count": 20,
   "id": "f5f1a9ed",
   "metadata": {},
   "outputs": [
    {
     "name": "stdout",
     "output_type": "stream",
     "text": [
      "HGBDT model results in terms of ROC-AUC:\n",
      "\n",
      "    Training: 0.780 +/- 0.009\n",
      "    Testing: 0.530 +/- 0.232\n",
      "    \n"
     ]
    }
   ],
   "source": [
    "cv = StratifiedKFold(n_splits=30, shuffle=False)\n",
    "cv_results = cross_validate(\n",
    "    hgbdt_model, X, y,\n",
    "    return_train_score=True,\n",
    "    scoring=[\"roc_auc\"],\n",
    "    n_jobs=-1,\n",
    "    cv=cv,\n",
    ")\n",
    "cv_results = pd.DataFrame(cv_results)\n",
    "print(\n",
    "    f\"\"\"HGBDT model results in terms of ROC-AUC:\n",
    "\n",
    "    Training: {cv_results['train_roc_auc'].mean():.3f} +/- {cv_results['train_roc_auc'].std():.3f}\n",
    "    Testing: {cv_results['test_roc_auc'].mean():.3f} +/- {cv_results['test_roc_auc'].std():.3f}\n",
    "    \"\"\"\n",
    ")"
   ]
  },
  {
   "cell_type": "markdown",
   "id": "4aaf8907",
   "metadata": {},
   "source": [
    "We see that now the results are much worse. We even see that the testing is below 0.5 (meaning it is worse than random guessing!).\n",
    "\n",
    "Usually, this indicates that the data are stored with a type of ordering. Here, breaking this strucutre starts to make our model predicts well. In practice, we should check what is the meaning of this ordering and if we should this structure in the data should exist or not. It will allow us to know if we should shuffle or not the data. You can have a look at this concrete example where I have a clear understanding of the data: https://inria.github.io/scikit-learn-mooc/python_scripts/cross_validation_grouping.html"
   ]
  },
  {
   "cell_type": "markdown",
   "id": "9384e975",
   "metadata": {},
   "source": [
    "### Reproducing ROC curve"
   ]
  },
  {
   "cell_type": "markdown",
   "id": "06815f8c",
   "metadata": {},
   "source": [
    "In the thesis, the structure was broken to report the results because a single train-test split was used with shuffling. We can reproduce the ROC curve using such approach:"
   ]
  },
  {
   "cell_type": "code",
   "execution_count": 21,
   "id": "bc33050d",
   "metadata": {},
   "outputs": [],
   "source": [
    "from sklearn.model_selection import train_test_split\n",
    "\n",
    "X_train, X_test, y_train, y_test = train_test_split(\n",
    "    X, y, stratify=y, test_size=0.2, random_state=0\n",
    ")"
   ]
  },
  {
   "cell_type": "code",
   "execution_count": 22,
   "id": "7670a9e2",
   "metadata": {},
   "outputs": [],
   "source": [
    "dummy_model.fit(X_train, y_train)\n",
    "linear_model.fit(X_train, y_train)\n",
    "_ = hgbdt_model.fit(X_train, y_train)"
   ]
  },
  {
   "cell_type": "markdown",
   "id": "63de60d2",
   "metadata": {},
   "source": [
    "Now we can use the plotting tool from scikit-learn to plot the ROC curve"
   ]
  },
  {
   "cell_type": "code",
   "execution_count": 23,
   "id": "a2ba3263",
   "metadata": {},
   "outputs": [
    {
     "data": {
      "image/png": "[encoded data removed]",
      "text/plain": [
       "<Figure size 640x480 with 1 Axes>"
      ]
     },
     "metadata": {},
     "output_type": "display_data"
    }
   ],
   "source": [
    "from sklearn.metrics import RocCurveDisplay\n",
    "\n",
    "disp = RocCurveDisplay.from_estimator(\n",
    "    dummy_model, X_test, y_test, name=\"Dummy classifier\", linestyle=\"--\"\n",
    ")\n",
    "RocCurveDisplay.from_estimator(\n",
    "    linear_model, X_test, y_test, name=\"Logistic regression\", ax=disp.ax_\n",
    ")\n",
    "RocCurveDisplay.from_estimator(\n",
    "    hgbdt_model, X_test, y_test, name=\"HGBDT classifier\", ax=disp.ax_\n",
    ")\n",
    "_ = disp.ax_.set_title(\n",
    "    \"Comparison of the ROC curve of the different models\"\n",
    ")"
   ]
  },
  {
   "cell_type": "markdown",
   "id": "08026abf",
   "metadata": {},
   "source": [
    "We more or less obtain the results show in the tesis."
   ]
  },
  {
   "cell_type": "markdown",
   "id": "c85516b0",
   "metadata": {},
   "source": [
    "### Permutation importance"
   ]
  },
  {
   "cell_type": "markdown",
   "id": "62775820",
   "metadata": {},
   "source": [
    "Here, we show how to plot the feature importances by using the permutation approach."
   ]
  },
  {
   "cell_type": "code",
   "execution_count": 24,
   "id": "7ce77e7b",
   "metadata": {},
   "outputs": [],
   "source": [
    "from sklearn.inspection import permutation_importance\n",
    "\n",
    "importances = permutation_importance(\n",
    "    hgbdt_model, X_test, y_test, scoring=\"roc_auc\"\n",
    ")\n",
    "importances = pd.DataFrame(\n",
    "    importances.importances.T,\n",
    "    columns=hgbdt_model[:-1].get_feature_names_out(),\n",
    ")"
   ]
  },
  {
   "cell_type": "code",
   "execution_count": 25,
   "id": "4c9fb457",
   "metadata": {},
   "outputs": [
    {
     "data": {
      "image/png": "[encoded data removed]",
      "text/plain": [
       "<Figure size 640x480 with 1 Axes>"
      ]
     },
     "metadata": {},
     "output_type": "display_data"
    }
   ],
   "source": [
    "ax = importances.plot.box(vert=False, whis=10)\n",
    "_ = ax.set_xlabel(\"Decrease in terms of ROC AUC\")"
   ]
  },
  {
   "cell_type": "markdown",
   "id": "eab332b3",
   "metadata": {},
   "source": [
    "### Conclusion\n",
    "\n",
    "The thesis is showing the \"Economic loss\". We cannot construct this loss because we are missing some information. However, it comes back to assign a cost to a prediction depending if we do a mistake or not.\n",
    "\n",
    "In the thesis, the cost depend on some external values that we don't have access. If we would have these access, we could there fore compute the cost, for all the possible threshold of used for the ROC curve and have a business oriented metric which is more maningful than the ROC curve."
   ]
  },
  {
   "cell_type": "code",
   "execution_count": null,
   "id": "8db18857",
   "metadata": {},
   "outputs": [],
   "source": []
  }
 ],
 "metadata": {
  "kernelspec": {
   "display_name": "Python 3 (ipykernel)",
   "language": "python",
   "name": "python3"
  },
  "language_info": {
   "codemirror_mode": {
    "name": "ipython",
    "version": 3
   },
   "file_extension": ".py",
   "mimetype": "text/x-python",
   "name": "python",
   "nbconvert_exporter": "python",
   "pygments_lexer": "ipython3",
   "version": "3.10.8"
  }
 },
 "nbformat": 4,
 "nbformat_minor": 5
}
